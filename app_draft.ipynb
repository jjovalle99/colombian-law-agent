{
 "cells": [
  {
   "cell_type": "markdown",
   "metadata": {},
   "source": [
    "#### 1. Dependencies"
   ]
  },
  {
   "cell_type": "code",
   "execution_count": 1,
   "metadata": {},
   "outputs": [],
   "source": [
    "import os\n",
    "\n",
    "import nest_asyncio\n",
    "from dotenv import load_dotenv\n",
    "from langchain import hub\n",
    "from langchain.agents import AgentExecutor, create_openai_functions_agent\n",
    "from langchain.prompts import SystemMessagePromptTemplate\n",
    "from langchain.retrievers import ContextualCompressionRetriever\n",
    "from langchain.retrievers.document_compressors import CohereRerank\n",
    "from langchain.tools.retriever import create_retriever_tool\n",
    "from langchain_community.tools.tavily_search import TavilySearchResults\n",
    "from langchain_community.vectorstores import Qdrant\n",
    "from langchain_openai.chat_models import ChatOpenAI\n",
    "from langchain_openai.embeddings import OpenAIEmbeddings\n",
    "from qdrant_client import AsyncQdrantClient, QdrantClient\n",
    "from tqdm import tqdm\n"
   ]
  },
  {
   "cell_type": "code",
   "execution_count": 2,
   "metadata": {},
   "outputs": [],
   "source": [
    "def pretty_print_docs(docs):\n",
    "    print(\n",
    "        f\"\\n{'-' * 100}\\n\".join(\n",
    "            [f\"Document {i+1}:\\n\\n\" + d.page_content for i, d in enumerate(docs)]\n",
    "        )\n",
    "    )"
   ]
  },
  {
   "cell_type": "markdown",
   "metadata": {},
   "source": [
    "#### 2. Setup"
   ]
  },
  {
   "cell_type": "code",
   "execution_count": 3,
   "metadata": {},
   "outputs": [],
   "source": [
    "load_dotenv()\n",
    "nest_asyncio.apply()"
   ]
  },
  {
   "cell_type": "code",
   "execution_count": 4,
   "metadata": {},
   "outputs": [],
   "source": [
    "MODEL = \"gpt-4-turbo-preview\"\n",
    "EMBEDDING_MODEL = \"text-embedding-3-large\"\n",
    "llm = ChatOpenAI(model=MODEL, temperature=0)\n",
    "embeddings = OpenAIEmbeddings(model=EMBEDDING_MODEL)\n",
    "client = QdrantClient(url=os.getenv(\"QDRANT__URL\"), api_key=os.getenv(\"QDRANT__API_KEY\"), prefer_grpc=True)\n",
    "aclient = AsyncQdrantClient(url=os.getenv(\"QDRANT__URL\"), api_key=os.getenv(\"QDRANT__API_KEY\"), prefer_grpc=True)"
   ]
  },
  {
   "cell_type": "markdown",
   "metadata": {},
   "source": [
    "### 3. Testing Retrievers ~ Tools"
   ]
  },
  {
   "cell_type": "code",
   "execution_count": 5,
   "metadata": {},
   "outputs": [],
   "source": [
    "qdrant_args = {\n",
    "    \"client\": client,\n",
    "    \"async_client\": aclient,\n",
    "    \"embeddings\": embeddings,\n",
    "}"
   ]
  },
  {
   "cell_type": "markdown",
   "metadata": {},
   "source": [
    "#### 3.1 Retriever: Constitución Política de la República de Colombia"
   ]
  },
  {
   "cell_type": "code",
   "execution_count": 6,
   "metadata": {},
   "outputs": [
    {
     "name": "stdout",
     "output_type": "stream",
     "text": [
      "Document 1:\n",
      "\n",
      "Constitución Política de la República de Colombia \n",
      "<Esta versión corresponde a la segunda edición corregida de la Constitución Política de Colombia, publicada en la Gaceta Constitucional No. 116 de 20 de julio de 1991> \n",
      "PREÁMBULO\n",
      "El pueblo de Colombia,\n",
      "en ejercicio de su poder soberano, representado por sus delegatarios a la Asamblea Nacional Constituyente, invocando la protección de Dios, y con el fin de fortalecer la unidad de la Nación y asegurar a sus integrantes la vida, la convivencia, el trabajo, la justicia, la igualdad, el conocimiento, la libertad y la paz, dentro de un marco jurídico, democrático y participativo que garantice un orden político, económico y social justo, y comprometido a impulsar la integración de la comunidad latinoamericana, decreta, sanciona y promulga la siguiente:\n",
      "Constitución Política de Colombia\n",
      "Resumen de Notas de Vigencia\n",
      "\n",
      "Jurisprudencia Concordante\n",
      "Corte ConstitucionalSentencias de control de constitucionalidad:C-477-92; C-478-92; C-479-92; C-517-92; C-541-92; C-543-92; C-544-92; C-589-92; C-606-92; C-150-93 \n",
      "Antecedentes\n",
      "Gacetas Asamblea Constituyente de 1991: 4, 5, 8, 12, 13, 21, 23, 24, 25, 26A, 28, 34, 35, 39, 62, 83, 84, 87, 90, 112 y 119 \n",
      "TITULO I. \n",
      "DE LOS PRINCIPIOS FUNDAMENTALES \n",
      "ARTICULO 1o. Colombia es un Estado social de derecho, organizado en forma de República unitaria, descentralizada, con autonomía de sus entidades territoriales, democrática, participativa y pluralista, fundada en el respeto de la dignidad humana, en el trabajo y la solidaridad de las personas que la integran y en la prevalencia del interés general.\n",
      "Concordancias\n",
      "Ley 388 de 1997; Art. 1o.; Art. 6o.; Art. 7o.; Art. 10; Art. 63Ley 590 de 2000; Art. 4 Literal e.Ley 905 de 2004; Art. 4 Literal e.Ley 986 de 2005Ley 1374 de 2010Ley 1436 de 2011Ley 1469 de 2011  \n",
      "Jurisprudencia Concordante\n",
      "Corte ConstitucionalSentencias de control de constitucionalidad:C-221-92; C-478-92; C-479-92; C-517-92; C-541-92; C-543-92; C-544-92; C-546-92; C-556-92; C-561-92; C-575-92; C-587-92; C-588-92; C-590-92; C-263-96; C-284-97; C-702-99; C-727-2000; C-1187-2000; C-244-2001; C-540-2001; C-837-2001; C-920-2001; C-1064-01; C-034-03; C-041-03; C-068-03; C-102-03; C-127-03; C-128-03; C-129-03; C-151-03; C-152-03; C-181-03; C-356-03; C-402-03; C-408-03; C-450-03; C-572-03; C-1003-03; C-1017-03; C-1055-03: C-022-04; C-038-04; C-047-04; C-105-04; C-150-04; C-151-04, C-157-04; C-171-04; C-176-04; C-224-04; C-227-04; C-314-04; C-352-04; C-355-04; C-369-04; C-379-04; C-431-04; C-432-04; C-457-04; C-458-04; C-459-04; C-474-04; C-508-04; C-512-04; C-513-04; C-448-05; C-822-05: C-121-06; C-319-07; C-272-16;  \n",
      "Antecedentes\n",
      "Gacetas Asamblea Constituyente de 1991: 4, 5, 8, 9, 10, 12, 13, 21, 23, 24, 25, 26A, 27, 29, 31, 34, 37, 43, 46, 60, 62, 63, 69, 71, 75, 83, 84, 87, 107 y 112\n",
      "----------------------------------------------------------------------------------------------------\n",
      "Document 2:\n",
      "\n",
      "ARTICULO 2o. Son fines esenciales del Estado: servir a la comunidad, promover la prosperidad general y garantizar la efectividad de los principios, derechos y deberes consagrados en la Constitución; facilitar la participación de todos en las decisiones que los afectan y en la vida económica, política, administrativa y cultural de la Nación; defender la independencia nacional, mantener la integridad territorial y asegurar la convivencia pacífica y la vigencia de un orden justo. \n",
      "Las autoridades de la República están instituidas para proteger a todas las personas residentes en Colombia, en su vida, honra, bienes, creencias, y demás derechos y libertades, y para asegurar el cumplimiento de los deberes sociales del Estado y de los particulares. \n",
      "Concordancias\n",
      "Ley 5 de 1992; Art. 230; Art. 231; Art. 232 Ley 104 de 1993; Art 6Ley 80 de 1993; Art. 2, numeral 3; Art. 3; Art. 5; Art. 26 Ley 241 de 1995Ley 282 de 1996Ley 322 de 1996Ley 387 de 1997Ley 388 de 1997; Art. 3o.; Art. 4o.; Art. 22; Art. 24; Art. 25; Art. 36; Art. 43; Art. 58; Art. 126 Ley 418 de 1997; Art. 6Ley 590 de 2000Ley 720 de 2001Ley 782 de 2002Ley 814 de 2003Ley 905 de 2004Ley 975 de 2005Ley 986 de 2005Ley 987 de 2005Ley 991 de 2005; Art. 1Ley 1106 de 2006Ley 1190 de 2008 Ley 1341 de 2009, Art. 56 Inc. 2o. Ley 1421 de 2010 Ley 1424 de 2010 Ley 1429 de 2010 Ley 1426 de 2010 Ley 1436 de 2011Ley 1437 de 2011Ley 1438 de 2011Ley 1448 de 2011Ley 1453 de 2011Ley 1474 de 2011Ley 1477 de 2011Ley 1505 de 2012Ley 1575 de 2012Ley 1621 de 2013 Ley 1785 de 2016 Ley 1916 de 2018 Ley 1941 de 2018; Art. 2o. Ley 1949 de 2019 Ley 1982 de 2019 Ley 2042 de 2020 Ley 2078 de 2021 Ley 2079 de 2021; Art. 53 Ley 2080 de 2021 Ley 2187 de 2022 Ley  2254 de 2022  \n",
      "Jurisprudencia Concordante\n",
      "Corte ConstitucionalSentencias de control de constitucionalidad:C-221-92; C-478-92; C-479-92; C-517-92; C-541-92; C-543-92; C-544-92; C-546-92; C-556-92; C-561-92; C-575-92; C-587-92; C-588-92; C-590-92; C-180-94; C-263-96; C-284-97; C-702-99; C-727-2000; C-1187-2000; C-244-2001; C-540-2001; C-837-2001; C-920-2001; C-041-03; C-102-03; C-103-03; C-152-03; C-181-03; C-204-03; C-317-03; C-329-03; C-356-03; C-385-03; C-402-03; C-408-03; C-431-03; C-572-03; C-573-03; C-902-03; C-941-03; C-1017-03; C-1055-03; C-014-04; C-018-04; C-019-04; C-023-04; C-037-04; C-038-04; C-041-04; C-042-04; C-047-04; C-075-04; C-077-04; C-108-04; C-150-04; C-153-04; C-171-04; C-173-04; C-174-04; C-224-04; C-249-04; C-250-04; C-347-04; C-352-04; C-355-04; C-369-04; C-376-04; C-379-04; C-431-04; C-432-04; C-457-04; C-458-04; C-474-04; C-508-04; C-513-04; C-569-04; C-471-06; C-278-07; C-885-07; C-415-12; C-1051-12; C-224-13; C-101-18; C-295-19; C-030-23;  C-525-23;  \n",
      "Antecedentes\n",
      "Gacetas Asamblea Constituyente de 1991: 5, 7, 8, 9, 12, 14, 21, 24, 27, 29, 30, 51, 53, 78 y 107\n",
      "----------------------------------------------------------------------------------------------------\n",
      "Document 3:\n",
      "\n",
      "ARTICULO 9o. Las relaciones exteriores del Estado se fundamentan en la soberanía nacional, en el respeto a la autodeterminación de los pueblos y en el reconocimiento de los principios del derecho internacional aceptados por Colombia. \n",
      "De igual manera, la política exterior de Colombia se orientará hacia la integración latinoamericana y del Caribe. \n",
      "Concordancias\n",
      "Constitución Política; Art. 226; Art. 227 Ley 5 de 1992; Art. 231; Art. 717 Ley 76 de 1993Ley 621 de 2000; Art. 1Ley 624 de 2000Ley 1167 de 2007; Art. 7o. Ley 1465 de 2011Ley 2135 de 2021 Ley 2136 de 2021  \n",
      "Jurisprudencia Concordante\n",
      "Corte ConstitucionalSentencias de control de constitucionalidad:C-477-92; C-504-92; C-393-2000; C-740-2000; C-910-2001; C-915-2001; C-953-2001; C-063-2002; C-251-2002; C-264-2002; C-287-2002; C-288-2002; C-294-2002; C-335-2002; C-334-2002; C-067-03; C-037-04; C-074-04; C-315-04; C-533-04; C-542-05; C-291-07;  \n",
      "Antecedentes\n",
      "Gacetas Asamblea Constituyente de 1991: 62, 68, 75, 78, 83, 84, 88 y 112\n"
     ]
    }
   ],
   "source": [
    "constitucion_vectorstore = Qdrant(collection_name=\"constitucion\", **qdrant_args)\n",
    "constitucion_retriever = constitucion_vectorstore.as_retriever(search_kwargs ={\"k\": 3})\n",
    "pretty_print_docs(await constitucion_retriever.ainvoke(\"Colombia es un Estado social de derecho\"))"
   ]
  },
  {
   "cell_type": "markdown",
   "metadata": {},
   "source": [
    "#### 3.2 Retriever: Código Penal - LEY 599 DE 2000"
   ]
  },
  {
   "cell_type": "code",
   "execution_count": 7,
   "metadata": {},
   "outputs": [
    {
     "name": "stdout",
     "output_type": "stream",
     "text": [
      "Document 1:\n",
      "\n",
      "ARTÍCULO 14. TERRITORIALIDAD. La ley penal colombiana se aplicará a toda persona que la infrinja en el territorio nacional, salvo las excepciones consagradas en el derecho internacional. \n",
      "Jurisprudencia Vigencia\n",
      "Corte Constitucional:- Este inciso corresponde en su totalidad al inciso 1o. del artículo 13 del Decreto-Ley 100 de 1980, la Corte Constitucional se pronunció sobre el aparte subrayado de dicho artículo declarándolo EXEQUIBLE mediante Sentencia C-1189-00 de 13 de sepiembre de 2000, Magistrado Ponente Dr. Carlos Gaviria Díaz.  \n",
      "La conducta punible se considera realizada: \n",
      "1. En el lugar donde se desarrolló total o parcialmente la acción. \n",
      "2. En el lugar donde debió realizarse la acción omitida. \n",
      "3. En el lugar donde se produjo o debió producirse el resultado.\n",
      "----------------------------------------------------------------------------------------------------\n",
      "Document 2:\n",
      "\n",
      "ARTÍCULO 15. TERRITORIALIDAD POR EXTENSIÓN. \n",
      "<Inciso modificado por el artículo 21 de la Ley 1121 de 2006. El nuevo texto es el siguiente:> La ley penal colombiana se aplicará a la persona que cometa la conducta punible a bordo de nave o aeronave del Estado o explotada por este, que se encuentre fuera del territorio nacional, salvo las excepciones consagradas en los tratados o convenios internacionales ratificados por Colombia.\n",
      "Notas de Vigencia\n",
      "- Inciso modificado por el artículo 21 de la Ley 1121 de 2006, publicada en el Diario Oficial No. 46.497 de 30 de diciembre de 2006. \n",
      "Legislación Anterior\n",
      "Texto original de la Ley 599 de 2000:<INCISO 1o.> La ley penal colombiana se aplicará a la persona que cometa la conducta punible a bordo de nave o aeronave del Estado que se encuentre fuera del territorio nacional, salvo las excepciones consagradas en los Tratados o Convenios Internacionales ratificados por Colombia.  \n",
      "Se aplicará igualmente al que cometa la conducta a bordo de cualquier otra nave o aeronave nacional, que se halle en altamar, cuando no se hubiere iniciado la acción penal en el exterior.\n",
      "----------------------------------------------------------------------------------------------------\n",
      "Document 3:\n",
      "\n",
      "ARTÍCULO 50. LA PRIVACIÓN DEL DERECHO A RESIDIR O DE ACUDIR A DETERMINADOS LUGARES. La privación del derecho a residir o de acudir a determinados lugares, impide al penado volver al lugar en que haya cometido la infracción, o a aquel en que resida la víctima o su familia, si fueren distintos.\n"
     ]
    }
   ],
   "source": [
    "codigo_penal_vectorstore = Qdrant(collection_name=\"codigo_penal\", **qdrant_args)\n",
    "codigo_penal_retriever = codigo_penal_vectorstore.as_retriever(search_kwargs ={\"k\": 3})\n",
    "pretty_print_docs(await codigo_penal_retriever.ainvoke(\"Territorialidad\"))"
   ]
  },
  {
   "cell_type": "markdown",
   "metadata": {},
   "source": [
    "#### 3.3 Retriever: Código General del Proceso - LEY 1564 DE 2012"
   ]
  },
  {
   "cell_type": "code",
   "execution_count": 8,
   "metadata": {},
   "outputs": [
    {
     "name": "stdout",
     "output_type": "stream",
     "text": [
      "Document 1:\n",
      "\n",
      "ARTÍCULO 132. CONTROL DE LEGALIDAD. Agotada cada etapa del proceso el juez deberá realizar control de legalidad para corregir o sanear los vicios que configuren nulidades u otras irregularidades del proceso, las cuales, salvo que se trate de hechos nuevos, no se podrán alegar en las etapas siguientes, sin perjuicio de lo previsto para los recursos de revisión y casación.\n",
      "Jurisprudencia Vigencia\n",
      "Corte Constitucional- Aparte subrayado declarado EXEQUIBLE, por los cargos analizados, por la Corte Constitucional mediante Sentencia C-537-16 de 5 de octubre de 2016, Magistrado Ponente Dr. Alejandro Linares Cantillo.\n",
      "----------------------------------------------------------------------------------------------------\n",
      "Document 2:\n",
      "\n",
      "ARTÍCULO 166. PRESUNCIONES ESTABLECIDAS POR LA LEY. Las presunciones establecidas por la ley serán procedentes siempre que los hechos en que se funden estén debidamente probados.\n",
      "El hecho legalmente presumido se tendrá por cierto, pero admitirá prueba en contrario cuando la ley lo autorice.\n",
      "----------------------------------------------------------------------------------------------------\n",
      "Document 3:\n",
      "\n",
      "ARTÍCULO 73. DERECHO DE POSTULACIÓN. Las personas que hayan de comparecer al proceso deberán hacerlo por conducto de abogado legalmente autorizado, excepto en los casos en que la ley permita su intervención directa.\n"
     ]
    }
   ],
   "source": [
    "codigo_general_del_proceso_vectorstore = Qdrant(collection_name=\"codigo_general_del_proceso\", **qdrant_args)\n",
    "codigo_general_del_proceso_retriever = codigo_general_del_proceso_vectorstore.as_retriever(search_kwargs ={\"k\": 3})\n",
    "pretty_print_docs(await codigo_general_del_proceso_retriever.ainvoke(\"Legalidad\"))"
   ]
  },
  {
   "cell_type": "markdown",
   "metadata": {},
   "source": [
    "#### 3.4 Create full set of retrievers"
   ]
  },
  {
   "cell_type": "code",
   "execution_count": 9,
   "metadata": {},
   "outputs": [
    {
     "data": {
      "text/plain": [
       "['codigo_civil',\n",
       " 'codigo_procedimental_laboral',\n",
       " 'codigo_penal',\n",
       " 'codigo_sustantivo_trabajo',\n",
       " 'codigo_general_del_proceso',\n",
       " 'codigo_comercio',\n",
       " 'constitucion']"
      ]
     },
     "execution_count": 9,
     "metadata": {},
     "output_type": "execute_result"
    }
   ],
   "source": [
    "collections = await aclient.get_collections()\n",
    "collection_names = [c[\"name\"] for c in collections.dict()[\"collections\"]]\n",
    "collection_names"
   ]
  },
  {
   "cell_type": "code",
   "execution_count": 10,
   "metadata": {},
   "outputs": [
    {
     "name": "stderr",
     "output_type": "stream",
     "text": [
      "100%|██████████| 7/7 [00:00<00:00, 42123.57it/s]\n"
     ]
    }
   ],
   "source": [
    "retrievers = []\n",
    "for collection in tqdm(collection_names, total=len(collection_names)):\n",
    "    vectorstore = Qdrant(collection_name=collection, **qdrant_args)\n",
    "    retriever = vectorstore.as_retriever(search_kwargs ={\"k\": 20})\n",
    "    retrievers.append(retriever)"
   ]
  },
  {
   "cell_type": "code",
   "execution_count": 11,
   "metadata": {},
   "outputs": [
    {
     "data": {
      "text/plain": [
       "{'codigo_civil': VectorStoreRetriever(tags=['Qdrant', 'OpenAIEmbeddings'], vectorstore=<langchain_community.vectorstores.qdrant.Qdrant object at 0x7f1abbad16d0>, search_kwargs={'k': 20}),\n",
       " 'codigo_procedimental_laboral': VectorStoreRetriever(tags=['Qdrant', 'OpenAIEmbeddings'], vectorstore=<langchain_community.vectorstores.qdrant.Qdrant object at 0x7f1abb9d9750>, search_kwargs={'k': 20}),\n",
       " 'codigo_penal': VectorStoreRetriever(tags=['Qdrant', 'OpenAIEmbeddings'], vectorstore=<langchain_community.vectorstores.qdrant.Qdrant object at 0x7f1abe0834d0>, search_kwargs={'k': 20}),\n",
       " 'codigo_sustantivo_trabajo': VectorStoreRetriever(tags=['Qdrant', 'OpenAIEmbeddings'], vectorstore=<langchain_community.vectorstores.qdrant.Qdrant object at 0x7f1abb3af750>, search_kwargs={'k': 20}),\n",
       " 'codigo_general_del_proceso': VectorStoreRetriever(tags=['Qdrant', 'OpenAIEmbeddings'], vectorstore=<langchain_community.vectorstores.qdrant.Qdrant object at 0x7f1abb3af850>, search_kwargs={'k': 20}),\n",
       " 'codigo_comercio': VectorStoreRetriever(tags=['Qdrant', 'OpenAIEmbeddings'], vectorstore=<langchain_community.vectorstores.qdrant.Qdrant object at 0x7f1abb4a8810>, search_kwargs={'k': 20}),\n",
       " 'constitucion': VectorStoreRetriever(tags=['Qdrant', 'OpenAIEmbeddings'], vectorstore=<langchain_community.vectorstores.qdrant.Qdrant object at 0x7f1abbc0a1d0>, search_kwargs={'k': 20})}"
      ]
     },
     "execution_count": 11,
     "metadata": {},
     "output_type": "execute_result"
    }
   ],
   "source": [
    "collection_retriever_map = dict(zip(collection_names, retrievers))\n",
    "collection_retriever_map"
   ]
  },
  {
   "cell_type": "markdown",
   "metadata": {},
   "source": [
    "### 4. Reranker"
   ]
  },
  {
   "cell_type": "markdown",
   "metadata": {},
   "source": [
    "#### 4.0 Code Modification"
   ]
  },
  {
   "cell_type": "markdown",
   "metadata": {},
   "source": [
    "Need to change this:\n",
    "```python\n",
    "    def rerank(\n",
    "        self,\n",
    "        documents: Sequence[Union[str, Document, dict]],\n",
    "        query: str,\n",
    "        *,\n",
    "        model: Optional[str] = None,\n",
    "        top_n: Optional[int] = -1,\n",
    "        max_chunks_per_doc: Optional[int] = None,\n",
    "    ) -> List[Dict[str, Any]]:\n",
    "         ...\n",
    "        if len(documents) == 0:  # to avoid empty api call\n",
    "            return []\n",
    "        docs = [\n",
    "            doc.page_content if isinstance(doc, Document) else doc for doc in documents\n",
    "        ]\n",
    "        model = model or self.model\n",
    "        top_n = top_n if (top_n is None or top_n > 0) else self.top_n\n",
    "        results = self.client.rerank(\n",
    "            query, docs, model, top_n=top_n, max_chunks_per_doc=max_chunks_per_doc\n",
    "        )\n",
    "        result_dicts = []\n",
    "        for res in results:\n",
    "            result_dicts.append(\n",
    "                {\"index\": res.index, \"relevance_score\": res.relevance_score}\n",
    "            )\n",
    "        return result_dicts\n",
    "```\n",
    "To:\n",
    "```python\n",
    "    def rerank(\n",
    "        self,\n",
    "        documents: Sequence[Union[str, Document, dict]],\n",
    "        query: str,\n",
    "        *,\n",
    "        model: Optional[str] = None,\n",
    "        top_n: Optional[int] = -1,\n",
    "        max_chunks_per_doc: Optional[int] = None,\n",
    "    ) -> List[Dict[str, Any]]:\n",
    "         ...\n",
    "        if len(documents) == 0:  # to avoid empty api call\n",
    "            return []\n",
    "        docs = [\n",
    "            doc.page_content if isinstance(doc, Document) else doc for doc in documents\n",
    "        ]\n",
    "        model = model or self.model\n",
    "        top_n = top_n if (top_n is None or top_n > 0) else self.top_n\n",
    "        results = self.client.rerank(\n",
    "            query=query, documents=docs, model=model, top_n=top_n, max_chunks_per_doc=max_chunks_per_doc\n",
    "        )\n",
    "        result_dicts = []\n",
    "        for res in results.results:\n",
    "            result_dicts.append(\n",
    "                {\"index\": res.index, \"relevance_score\": res.relevance_score}\n",
    "            )\n",
    "        return result_dicts\n",
    "```"
   ]
  },
  {
   "cell_type": "markdown",
   "metadata": {},
   "source": [
    "#### 4.1 Testing Reranker with retrievers"
   ]
  },
  {
   "cell_type": "code",
   "execution_count": 12,
   "metadata": {},
   "outputs": [],
   "source": [
    "cohere_rerank = CohereRerank(model=\"rerank-multilingual-v2.0\", top_n=5)\n",
    "compression_retriever = ContextualCompressionRetriever(\n",
    "    base_compressor=cohere_rerank, \n",
    "    base_retriever=collection_retriever_map.get(\"codigo_penal\")\n",
    ")"
   ]
  },
  {
   "cell_type": "code",
   "execution_count": 13,
   "metadata": {},
   "outputs": [
    {
     "name": "stdout",
     "output_type": "stream",
     "text": [
      "Document 1:\n",
      "\n",
      "ARTÍCULO 14. TERRITORIALIDAD. La ley penal colombiana se aplicará a toda persona que la infrinja en el territorio nacional, salvo las excepciones consagradas en el derecho internacional. \n",
      "Jurisprudencia Vigencia\n",
      "Corte Constitucional:- Este inciso corresponde en su totalidad al inciso 1o. del artículo 13 del Decreto-Ley 100 de 1980, la Corte Constitucional se pronunció sobre el aparte subrayado de dicho artículo declarándolo EXEQUIBLE mediante Sentencia C-1189-00 de 13 de sepiembre de 2000, Magistrado Ponente Dr. Carlos Gaviria Díaz.  \n",
      "La conducta punible se considera realizada: \n",
      "1. En el lugar donde se desarrolló total o parcialmente la acción. \n",
      "2. En el lugar donde debió realizarse la acción omitida. \n",
      "3. En el lugar donde se produjo o debió producirse el resultado.\n",
      "----------------------------------------------------------------------------------------------------\n",
      "Document 2:\n",
      "\n",
      "ARTÍCULO 15. TERRITORIALIDAD POR EXTENSIÓN. \n",
      "<Inciso modificado por el artículo 21 de la Ley 1121 de 2006. El nuevo texto es el siguiente:> La ley penal colombiana se aplicará a la persona que cometa la conducta punible a bordo de nave o aeronave del Estado o explotada por este, que se encuentre fuera del territorio nacional, salvo las excepciones consagradas en los tratados o convenios internacionales ratificados por Colombia.\n",
      "Notas de Vigencia\n",
      "- Inciso modificado por el artículo 21 de la Ley 1121 de 2006, publicada en el Diario Oficial No. 46.497 de 30 de diciembre de 2006. \n",
      "Legislación Anterior\n",
      "Texto original de la Ley 599 de 2000:<INCISO 1o.> La ley penal colombiana se aplicará a la persona que cometa la conducta punible a bordo de nave o aeronave del Estado que se encuentre fuera del territorio nacional, salvo las excepciones consagradas en los Tratados o Convenios Internacionales ratificados por Colombia.  \n",
      "Se aplicará igualmente al que cometa la conducta a bordo de cualquier otra nave o aeronave nacional, que se halle en altamar, cuando no se hubiere iniciado la acción penal en el exterior.\n",
      "----------------------------------------------------------------------------------------------------\n",
      "Document 3:\n",
      "\n",
      "ARTÍCULO 16. EXTRATERRITORIALIDAD. La ley penal colombiana se aplicará: \n",
      "1. <Inciso modificado por el artículo 22 de la Ley 1121 de 2006. El nuevo texto es el siguiente:> A la persona que cometa en el extranjero delito contra la existencia y seguridad del Estado, contra el régimen constitucional, contra el orden económico social excepto la conducta definida en el artículo 323 del presente Código, contra la administración pública, o falsifique moneda nacional o incurra en el delito de financiación de terrorismo y administración de recursos relacionados con actividades terroristas, aun cuando hubiere sido absuelta o condenada en el exterior a una pena menor que la prevista en la ley colombiana.\n",
      "Notas de Vigencia\n",
      "- Inciso 1o. modificado por el artículo 22 de la Ley 1121 de 2006, publicada en el Diario Oficial No. 46.497 de 30 de diciembre de 2006. \n",
      "Legislación Anterior\n",
      "Texto original de la Ley 599 de 2000:<INCISO 1> A la persona que cometa en el extranjero delito contra la existencia y la seguridad del Estado, contra el régimen constitucional, contra el orden económico social excepto la conducta definida en el Artículo 323 del presente Código, contra la administración pública, o falsifique moneda nacional, documento de crédito público, o estampilla oficial, aun cuando hubiere sido absuelta o condenada en el exterior a una pena menor que la prevista en la ley colombiana.  \n",
      "En todo caso se tendrá como parte cumplida de la pena el tiempo que hubiere estado privada de su libertad. \n",
      "Jurisprudencia Vigencia\n",
      "Corte Constitucional- Aparte subrayado declarado EXEQUIBLE por la Corte Constitucional mediante Sentencia C-551-01 de 30 de mayo, Magistrado Ponente Dr. Alvaro Tafur Galvis. \n",
      "2. A la persona que esté al servicio del Estado colombiano, goce de inmunidad reconocida por el derecho internacional y cometa delito en el extranjero. \n",
      "Jurisprudencia Vigencia\n",
      "Corte Constitucional:- Este numeral corresponde en su totalidad al numeral 2o. del artículo 15 del Decreto-Ley 100 de 1980, la Corte Constitucional se pronunció sobre dicho numeral declarándolo EXEQUIBLE mediante Sentencia C-264-95, de 22 de junio de 1995, Magistrado Ponente Dr. Fabio Morón Díaz. \n",
      "3. A la persona que esté al servicio del Estado colombiano, no goce de inmunidad reconocida por el derecho internacional y cometa en el extranjero delito distinto de los mencionados en el numeral 1o., cuando no hubiere sido juzgada en el exterior. \n",
      "4. Al nacional que fuera de los casos previstos en los numerales anteriores, se encuentre en Colombia después de haber cometido un delito en territorio extranjero, cuando la ley penal colombiana lo reprima con pena privativa de la libertad cuyo mínimo no sea inferior a dos (2) años y no hubiere sido juzgado en el exterior. \n",
      "Si se trata de pena inferior, no se procederá sino por querella de parte o petición del Procurador General de la Nación. \n",
      "Jurisprudencia Vigencia\n",
      "Corte Constitucional:- Este numeral corresponde en su totalidad al numeral 4o. del artículo 15 del Decreto-Ley 100 de 1980, la Corte Constitucional se pronunció sobre el aparte subrayado en dicho artículo declarándolo EXEQUIBLE mediante Sentencia C-1189-00 de 13 de sepiembre de 2000, Magistrado Ponente Dr. Carlos Gaviria Díaz.  \n",
      "5. Al extranjero que fuera de los casos previstos en los numerales 1, 2 y 3, se encuentre en Colombia después de haber cometido en el exterior un delito en perjuicio del Estado o de un nacional colombiano, que la ley colombiana reprima con pena privativa de la libertad cuyo mínimo no sea inferior a dos años (2) y no hubiere sido juzgado en el exterior. \n",
      "En este caso sólo se procederá por querella de parte o petición del Procurador General de la Nación. \n",
      "6. Al extranjero que haya cometido en el exterior un delito en perjuicio de extranjero, siempre que se reúnan estas condiciones: \n",
      "a) Que se halle en territorio colombiano; \n",
      "b) Que el delito tenga señalada en Colombia pena privativa de la libertad cuyo mínimo no sea inferior a tres (3) años; \n",
      "c) Que no se trate de delito político, y \n",
      "d) Que solicitada la extradición no hubiere sido concedida por el gobierno colombiano. Cuando la extradición no fuere aceptada habrá lugar a proceso penal. \n",
      "En el caso a que se refiere el presente numeral no se procederá sino mediante querella o petición del Procurador General de la Nación y siempre que no hubiere sido juzgado en el exterior.\n",
      "----------------------------------------------------------------------------------------------------\n",
      "Document 4:\n",
      "\n",
      "CAPÍTULO VII. \n",
      "DE LA USURPACIÓN \n",
      "\n",
      "ARTÍCULO 261. USURPACIÓN DE INMUEBLES. <Artículo modificado por el artículo 9 de la Ley 1453 de 2011. El nuevo texto es el siguiente:> El que para apropiarse en todo o en parte de bien inmueble, o para derivar provecho de él destruya, altere, o suprima los mojones o señales que fijan sus linderos, o los cambie de sitio, incurrirá en prisión de cuarenta y ocho (48) a cincuenta y cuatro (54) meses y multa de trece punto treinta y tres (13.33) a setenta y cinco (75) salarios mínimos legales mensuales vigentes. \n",
      "Si con el mismo propósito se desarrollan acciones jurídicas induciendo a error o con la complicidad, favorecimiento o coautoría de la autoridad notarial o de registro de instrumentos públicos, la pena será de prisión entre cuatro y diez años. \n",
      "La pena se duplicará, si la usurpación se desarrolla mediante el uso de la violencia o valiéndose de cualquiera de las conductas establecidas en el Título XII de este libro. \n",
      "Notas de Vigencia\n",
      "- Artículo modificado por el artículo 9 de la Ley 1453 de 2011, publicada en el Diario Oficial No. 48.110 de 24 de junio de 2011.- Ver la ADVERTENCIA y el Resumen de Notas de Vigencia al comienzo de este Código.Artículo modificado por el artículo 14 de la Ley 890 de 2004, publicada en el Diario Oficial No. 45.602, de 7 de julio de 2004, el cual establece en su versión original:'ARTÍCULO 14. Las penas previstas en los tipos penales contenidos en la Parte Especial del Código Penal se aumentarán en la tercera parte en el mínimo y en la mitad en el máximo. En todo caso, la aplicación de esta regla general de incremento deberá respetar el tope máximo de la pena privativa de la libertad para los tipos penales de acuerdo con lo establecido en el artículo 2o. de la presente ley. ...'El artículo 15, dispone: '... La presente ley rige a partir del 1o. de enero de 2005 ...'  \n",
      "Legislación Anterior\n",
      "Texto original de la Ley 599 de 2000, con las penas aumentadas por la Ley 890 de 2004:ARTÍCULO 261. USURPACIÓN DE TIERRAS. <Penas aumentadas por el artículo 14 de la Ley 890 de 2004, a partir del 1o. de enero de 2005. El texto con las penas aumentadas es el siguiente:> El que para apropiarse en todo o en parte de bien inmueble, o para derivar provecho de él destruya, altere, o suprima los mojones o señales que fijan sus linderos, o los cambie de sitio, incurrirá en prisión de dieciséis (16) a cincuenta y cuatro (54) meses y multa de trece punto treinta y tres (13.33) a setenta y cinco (75) salarios mínimos legales mensuales vigentes.Texto original de la Ley 599 de 2000:ARTÍCULO 261. USURPACIÓN DE TIERRAS. El que para apropiarse en todo o en parte de bien inmueble, o para derivar provecho de él destruya, altere, o suprima los mojones o señales que fijan sus linderos, o los cambie de sitio, incurrirá en prisión de uno (1) a tres (3) años y multa de diez (10) a cincuenta (50) salarios mínimos legales mensuales vigentes.\n",
      "----------------------------------------------------------------------------------------------------\n",
      "Document 5:\n",
      "\n",
      "ARTÍCULO 332A. CONTAMINACIÓN AMBIENTAL POR RESIDUOS SÓLIDOS PELIGROSOS. <Artículo eliminado por el artículo 1 de la Ley 2111 de 2021> \n",
      "Notas de Vigencia\n",
      "- Título sustituido por el artículo 1 de la Ley 2111 de 2021, 'por medio del cual se sustituye el Título XI “De los delitos contra los recursos naturales y el medio ambiente” de la Ley 599 de 2000, se modifica la Ley 906 de 2004 y se dictan otras disposiciones', publicada en el Diario Oficial No. 51.750 de 29 de julio de 2021.- Artículo adicionado por el artículo 35 de la Ley 1453 de 2011, publicada en el Diario Oficial No. 48.110 de 24 de junio de 2011. \n",
      "Legislación Anterior\n",
      "Texto modificado por  la Ley 1453 de 2011:ARTÍCULO 332A.  <Artículo adicionado por el artículo 35 de la Ley 1453 de 2011. El nuevo texto es el siguiente:> El que con incumplimiento de la normatividad existente almacene, transporte o disponga inadecuadamente, residuo sólido, peligroso o escombros, de tal manera que ponga en peligro la calidad de los cuerpos de agua, el suelo o el subsuelo tendrá prisión de dos (2) a nueve (9) años y multa de ciento treinta y tres punto treinta y tres (133.33) a cincuenta mil (50.000) salarios mínimos legales mensuales vigentes. La pena se aumentará de una tercera parte a la mitad cuando en la comisión de cualquiera de los hechos descritos en el artículo anterior se ponga en peligro la salud humana.  \n",
      "CAPÍTULO II. \n",
      "DE LOS DAÑOS EN LOS RECURSOS NATURALES. \n",
      "Notas de Vigencia\n",
      "- Título modificado (adiciona esta división) por el artículo 1 de la Ley 2111 de 2021, 'por medio del cual se sustituye el Título XI “De los delitos contra los recursos naturales y el medio ambiente” de la Ley 599 de 2000, se modifica la Ley 906 de 2004 y se dictan otras disposiciones', publicada en el Diario Oficial No. 51.750 de 29 de julio de 2021. \n",
      "ARTÍCULO 333. DAÑOS EN LOS RECURSOS NATURALES Y ECOCIDIO. <Artículo CONDICIONALMENTE exequible> <Artículo modificado por el artículo 1 de la Ley 2111 de 2021. El nuevo texto es el siguiente:> El que con incumplimiento de la normatividad existente destruya, inutilice, haga desaparecer o cause un impacto ambiental grave o de cualquier otro modo dañe los recursos naturales a que se refiere este título o a los que estén asociados con estos, incurrirá en prisión de sesenta (60) a ciento treinta y cinco (135) meses y multa de ciento sesenta y siete (167) a dieciocho mil setecientos cincuenta (18.750) salarios mínimos legales mensuales vigentes. \n",
      "PARÁGRAFO 1o. Para los efectos de este artículo se entiende por ecocidio, el daño masivo y destrucción generalizada grave y sistémica de los ecosistemas. \n",
      "PARÁGRAFO 2o. Por impacto ambiental grave se entenderá, la alteración de las condiciones ambientales que se genere como consecuencia de la afectación de los componentes ambientales, eliminando la integridad del sistema y poniendo en riesgo su sostenibilidad. \n",
      "Notas de Vigencia\n",
      "- Título sustituido por el artículo 1 de la Ley 2111 de 2021, 'por medio del cual se sustituye el Título XI “De los delitos contra los recursos naturales y el medio ambiente” de la Ley 599 de 2000, se modifica la Ley 906 de 2004 y se dictan otras disposiciones', publicada en el Diario Oficial No. 51.750 de 29 de julio de 2021.- Artículo modificado por el artículo 36 de la Ley 1453 de 2011, publicada en el Diario Oficial No. 48.110 de 24 de junio de 2011.- Ver la ADVERTENCIA y el Resumen de Notas de Vigencia al comienzo de este Código.Artículo modificado por el artículo 14 de la Ley 890 de 2004, publicada en el Diario Oficial No. 45.602, de 7 de julio de 2004, el cual establece en su versión original:'ARTÍCULO 14. Las penas previstas en los tipos penales contenidos en la Parte Especial del Código Penal se aumentarán en la tercera parte en el mínimo y en la mitad en el máximo. En todo caso, la aplicación de esta regla general de incremento deberá respetar el tope máximo de la pena privativa de la libertad para los tipos penales de acuerdo con lo establecido en el artículo 2o. de la presente ley. ...'El artículo 15, dispone: '... La presente ley rige a partir del 1o. de enero de 2005 ...'  \n",
      "Jurisprudencia Vigencia\n",
      "Corte Constitucional- Artículo (modificado por la Ley 2111 de 2021) declarado EXEQUIBLE, por el cargo analizado, por la Corte Constitucional mediante Sentencia C-021-23 de 9 de febrero de 2023, Magistrado Ponente Dr. José Fernando Reyes Cuartas. - Artículo (modificado por la Ley 2111 de 2021) declarado CONDICIONALMENTE EXEQUIBLE, por el cargo analizado,  por la Corte Constitucional mediante Sentencia C-367-22 de 20 de octubre de 2022, Magistrada Ponente Dra. Natalia Ángel Cabo, 'siempre y cuando se entienda que las normas de reenvío que sean de naturaleza administrativa deben ser expedidas por las instituciones públicas pertenecientes al Sistema Nacional Ambiental con competencias regulatorias; sean precisas, previas a la configuración de la conducta, con un alcance general y de conocimiento público'. \n",
      "Legislación Anterior\n",
      "<La legislación anterior del tema de que trata este artículo corresponde a la contenida en 'Legislación Anterior' del artículo 331>Texto modificado por  la Ley 1453 de 2011:ARTÍCULO 333. CONTAMINACIÓN AMBIENTAL POR EXPLOTACIÓN DE YACIMIENTO MINERO O HIDROCARBURO. <Artículo modificado por el artículo 36 de la Ley 1453 de 2011. El nuevo texto es el siguiente:> El que provoque, contamine o realice directa o indirectamente en los recursos de agua, suelo, subsuelo o atmósfera, con ocasión a la extracción o excavación, exploración, construcción y montaje, explotación, beneficio, transformación, transporte de la actividad minera o de hidrocarburos, incurrirá en prisión de cinco (5) a diez (10) años, y multa de treinta mil (30.000) a cincuenta mil (50.000) salarios mínimos legales mensuales vigentes. Texto original de la Ley 599 de 2000, con las penas aumentadas por la Ley 890 de 2004:ARTÍCULO 333. CONTAMINACIÓN AMBIENTAL CULPOSA POR EXPLOTACIÓN DE YACIMIENTO MINERO O HIDROCARBURO. El que por culpa al explorar, explotar o extraer yacimiento minero o de hidrocarburos, contamine aguas, suelo, subsuelo o atmósfera, incurrirá en prisión de treinta y dos (32) a noventa (90) meses, y multa de ciento treinta y tres punto treinta y tres (133.33) a cincuenta mil (50.000) salarios mínimos legales mensuales vigentes. Texto original de la Ley 599 de 2000:ARTÍCULO 333. CONTAMINACIÓN AMBIENTAL CULPOSA POR EXPLOTACIÓN DE YACIMIENTO MINERO O HIDROCARBURO. El que por culpa al explorar, explotar o extraer yacimiento minero o de hidrocarburos, contamine aguas, suelo, subsuelo o atmósfera, incurrirá en prisión de dos (2) a cinco (5) años, y multa de cien (100) a cincuenta mil (50.000) salarios mínimos legales mensuales vigentes.  \n",
      "CAPÍTULO III. \n",
      "DE LA CONTAMINACIÓN AMBIENTAL. \n",
      "Notas de Vigencia\n",
      "- Título modificado (adiciona esta división) por el artículo 1 de la Ley 2111 de 2021, 'por medio del cual se sustituye el Título XI “De los delitos contra los recursos naturales y el medio ambiente” de la Ley 599 de 2000, se modifica la Ley 906 de 2004 y se dictan otras disposiciones', publicada en el Diario Oficial No. 51.750 de 29 de julio de 2021. \n",
      "ARTÍCULO 334. CONTAMINACIÓN AMBIENTAL. <Artículo CONDICIONALMENTE exequible> <Artículo modificado por el artículo 1 de la Ley 2111 de 2021. El nuevo texto es el siguiente:> El que con incumplimiento de la normatividad existente contamine, provoque o realice directa o indirectamente emisiones, vertimientos, radiaciones, ruidos, depósitos, o disposiciones al aire, la atmósfera o demás componentes del espacio aéreo, el suelo, el subsuelo, las aguas superficiales, marítimas o subterráneas o demás recursos naturales en tal forma que contamine o genere un efecto nocivo en el ambiente, que ponga en peligro la salud humana y los recursos naturales, incurrirá en prisión de sesenta y nueve (69) a ciento cuarenta (140) meses y multa de ciento cuarenta (140) a cincuenta mil (50.000) salarios mínimos legales mensuales vigentes. \n",
      "La pena se aumentará de una tercera parte a la mitad cuando en la comisión de cualquiera de los hechos descritos en este artículo, sin perjuicio de las que puedan corresponder con arreglo a otros preceptos de este Código concurra alguna de las circunstancias siguientes: \n",
      "1. Cuando la conducta se realice con fines terroristas. \n",
      "2. Cuando la emisión o el vertimiento supere el doble de lo permitido por la normatividad existente o haya infringido más de dos parámetros. \n",
      "3. Cuando la persona natural o jurídica realice clandestina o engañosamente los vertimientos, depósitos, emisiones o disposiciones. \n",
      "4. Que se hayan desobedecido las órdenes expresas de la autoridad administrativa o judicial competente de corrección o suspensión de las actividades tipificadas en el presente artículo. \n",
      "5. Que se haya ocultado o aportado información engañosa o falsa sobre los aspectos ambientales de la misma o se haya obstaculizado la actividad de control y vigilancia de la autoridad competente. \n",
      "6. Cuando la contaminación sea producto del almacenamiento, transporte, vertimiento o disposición inadecuada de residuo peligroso. \n",
      "Notas de Vigencia\n",
      "- Título sustituido por el artículo 1 de la Ley 2111 de 2021, 'por medio del cual se sustituye el Título XI “De los delitos contra los recursos naturales y el medio ambiente” de la Ley 599 de 2000, se modifica la Ley 906 de 2004 y se dictan otras disposiciones', publicada en el Diario Oficial No. 51.750 de 29 de julio de 2021.- Artículo modificado por el artículo 37 de la Ley 1453 de 2011, publicada en el Diario Oficial No. 48.110 de 24 de junio de 2011.- Ver la ADVERTENCIA y el Resumen de Notas de Vigencia al comienzo de este Código.Artículo modificado por el artículo 14 de la Ley 890 de 2004, publicada en el Diario Oficial No. 45.602, de 7 de julio de 2004, el cual establece en su versión original:'ARTÍCULO 14. Las penas previstas en los tipos penales contenidos en la Parte Especial del Código Penal se aumentarán en la tercera parte en el mínimo y en la mitad en el máximo. En todo caso, la aplicación de esta regla general de incremento deberá respetar el tope máximo de la pena privativa de la libertad para los tipos penales de acuerdo con lo establecido en el artículo 2o. de la presente ley. ...'El artículo 15, dispone: '... La presente ley rige a partir del 1o. de enero de 2005 ...'  \n",
      "Jurisprudencia Vigencia\n",
      "Corte Constitucional- Artículo (modificado por la Ley 2111 de 2021) declarado CONDICIONALMENTE EXEQUIBLE, por el cargo analizado,  por la Corte Constitucional mediante Sentencia C-367-22 de 20 de octubre de 2022, Magistrada Ponente Dra. Natalia Ángel Cabo, 'siempre y cuando se entienda que las normas de reenvío que sean de naturaleza administrativa deben ser expedidas por las instituciones públicas pertenecientes al Sistema Nacional Ambiental con competencias regulatorias; sean precisas, previas a la configuración de la conducta, con un alcance general y de conocimiento público'. \n",
      "Legislación Anterior\n",
      "<La legislación anterior del tema de que trata este artículo corresponde a la contenida en 'Legislación Anterior' del artículo 332>Texto modificado por  la Ley 1453 de 2011:ARTÍCULO 334. EXPERIMENTACIÓN ILEGAL CON ESPECIES, AGENTES BIOLÓGICOS O BIOQUÍMICOS. <Artículo modificado por el artículo 37 de la Ley 1453 de 2011. El nuevo texto es el siguiente:> El que sin permiso de autoridad competente o con incumplimiento de la normatividad existente, realice experimentos, con especies, agentes biológicos o bioquímicos, que generen o pongan en peligro o nesgo la salud humana o la supervivencia de las especies de la biodiversidad colombiana, incurrirá en prisión de sesenta (60) a ciento cuarenta y cuatro (144) meses y multa de ciento treinta y tres punto treinta tres (133.33) a cincuenta mil (50.000) salarios mínimos mensuales legales vigentes. Texto original de la Ley 599 de 2000, con las penas aumentadas por la Ley 890 de 2004:ARTÍCULO 334. EXPERIMENTACIÓN ILEGAL EN ESPECIES ANIMALES O VEGETALES. El que, sin permiso de autoridad competente o con incumplimiento de la normatividad existente, realice experimentos, introduzca o propague especies animales, vegetales, hidrobiológicas o agentes biológicos o bioquímicos que pongan en peligro la salud o la existencia de las especies, o alteren la población animal o vegetal, incurrirá en prisión de treinta y dos (32) a ciento ocho (108) meses y multa de sesenta y seis punto sesenta y seis (66.66) a trescientos (300) salarios mínimos legales mensuales vigentes. Texto original de la Ley 599 de 2000:ARTÍCULO 334. EXPERIMENTACIÓN ILEGAL EN ESPECIES ANIMALES O VEGETALES. El que, sin permiso de autoridad competente o con incumplimiento de la normatividad existente, realice experimentos, introduzca o propague especies animales, vegetales, hidrobiológicas o agentes biológicos o bioquímicos que pongan en peligro la salud o la existencia de las especies, o alteren la población animal o vegetal, incurrirá en prisión de dos (2) a seis (6) años y multa de cincuenta (50) a doscientos (200) salarios mínimos legales mensuales vigentes.  \n",
      "ARTÍCULO 334A. CONTAMINACIÓN AMBIENTAL POR EXPLOTACIÓN DE YACIMIENTO MINERO O HIDROCARBURO. <Artículo adicionado por el artículo 1 de la Ley 2111 de 2021. El nuevo texto es el siguiente:> El que provoque, contamine o realice directa o indirectamente en los recursos de agua, suelo, subsuelo o atmósfera, con ocasión a la extracción o excavación, exploración, construcción y montaje, explotación, beneficio, transformación, transporte de la actividad minera o de hidrocarburos, incurrirá en prisión de cinco (5) a diez (10) años, y multa de treinta mil (30.000) a cincuenta mil (50.000) salarios mínimos legales mensuales vigentes.\n",
      "Notas de Vigencia\n",
      "- Título sustituido por el artículo 1 de la Ley 2111 de 2021, 'por medio del cual se sustituye el Título XI “De los delitos contra los recursos naturales y el medio ambiente” de la Ley 599 de 2000, se modifica la Ley 906 de 2004 y se dictan otras disposiciones', publicada en el Diario Oficial No. 51.750 de 29 de julio de 2021. \n",
      "Legislación Anterior\n",
      "<La legislación anterior del tema de que trata este artículo corresponde a la contenida en 'Legislación Anterior' del artículo 333> \n",
      "ARTÍCULO 335. EXPERIMENTACIÓN ILEGAL CON ESPECIES, AGENTES BIOLÓGICOS O BIOQUÍMICOS. <Artículo CONDICIONALMENTE exequible> <Artículo modificado por el artículo 1 de la Ley 2111 de 2021. El nuevo texto es el siguiente:> El que sin permiso de autoridad competente o con incumplimiento de la normatividad existente, realice experimentos con especies, agentes biológicos o bioquímicos que constituyan, generen o pongan en peligro la supervivencia de las especies de la biodiversidad colombiana, incurrirá en prisión de sesenta (60) a ciento cuarenta y cuatro (144) meses y multa de ciento treinta y cuatro (134) a cincuenta mil (50.000) salarios mínimos legales mensuales vigentes. \n",
      "Notas de Vigencia\n",
      "- Título sustituido por el artículo 1 de la Ley 2111 de 2021, 'por medio del cual se sustituye el Título XI “De los delitos contra los recursos naturales y el medio ambiente” de la Ley 599 de 2000, se modifica la Ley 906 de 2004 y se dictan otras disposiciones', publicada en el Diario Oficial No. 51.750 de 29 de julio de 2021.- Artículo modificado por el artículo 38 de la Ley 1453 de 2011, publicada en el Diario Oficial No. 48.110 de 24 de junio de 2011.- Ver la ADVERTENCIA y el Resumen de Notas de Vigencia al comienzo de este Código.Artículo modificado por el artículo 14 de la Ley 890 de 2004, publicada en el Diario Oficial No. 45.602, de 7 de julio de 2004, el cual establece en su versión original:'ARTÍCULO 14. Las penas previstas en los tipos penales contenidos en la Parte Especial del Código Penal se aumentarán en la tercera parte en el mínimo y en la mitad en el máximo. En todo caso, la aplicación de esta regla general de incremento deberá respetar el tope máximo de la pena privativa de la libertad para los tipos penales de acuerdo con lo establecido en el artículo 2o. de la presente ley. ...'El artículo 15, dispone: '... La presente ley rige a partir del 1o. de enero de 2005 ...'  \n",
      "Jurisprudencia Vigencia\n",
      "Corte Constitucional- Artículo (modificado por la Ley 2111 de 2021) declarado CONDICIONALMENTE EXEQUIBLE, por el cargo analizado,  por la Corte Constitucional mediante Sentencia C-367-22 de 20 de octubre de 2022, Magistrada Ponente Dra. Natalia Ángel Cabo, 'siempre y cuando se entienda que las normas de reenvío que sean de naturaleza administrativa deben ser expedidas por las instituciones públicas pertenecientes al Sistema Nacional Ambiental con competencias regulatorias; sean precisas, previas a la configuración de la conducta, con un alcance general y de conocimiento público'. \n",
      "Legislación Anterior\n",
      "<La legislación anterior del tema de que trata este artículo corresponde a la contenida en 'Legislación Anterior' del artículo 334>Texto modificado por  la Ley 1453 de 2011:ARTÍCULO 335. ILÍCITA ACTIVIDAD DE PESCA. <Artículo modificado por el artículo 38 de la Ley 1453 de 2011. El nuevo texto es el siguiente:> El que sin permiso de autoridad competente o con incumplimiento de la normatividad existente, realice actividad de pesca, comercialización, transporte, o almacenaje de ejemplares o productos de especies vedadas o en zonas o áreas de reserva, o en épocas vedadas, en zona prohibida, o con explosivos, sustancia venenosa, incurrirá en prisión de cuarenta y ocho (48) a ciento ocho (108) meses y multa hasta de cincuenta mil (50.000) salarios mínimos legales mensuales vigentes. En la misma pena incurrirá el que: 1. Utilice instrumentos no autorizados o de especificaciones técnicas que no correspondan a las permitidas por la autoridad competente. 2. Deseque, varíe o baje el nivel de los ríos, lagunas, ciénagas o cualquiera otra fuente con propósitos pesqueros o fines de pesca. 3. Altere los refugios o el medio ecológico de especies de recursos hidrobiológicos, como consecuencia de actividades de exploración o explotación de recursos naturales no renovables. 4. Construya obras o instale redes, mallas o cualquier otro elemento que impida el libre y permanente tránsito de los peces en los mares, ciénagas, lagunas, caños, ríos y canales. Texto original de la Ley 599 de 2000, con las penas aumentadas por la Ley 890 de 2004:ARTÍCULO 335. PESCA ILEGAL. El que pesque en zona prohibida, o con explosivos, sustancia venenosa, o deseque cuerpos de agua con propósitos pesqueros, incurrirá en prisión de dieciséis (16) a cincuenta y cuatro (54) meses y multa de trece punto treinta y tres (13.33) a cincuenta mil (50.000) salarios mínimos legales mensuales vigentes, siempre que la conducta no constituya delito sancionado con pena mayor. Texto original de la Ley 599 de 2000:ARTÍCULO 335. PESCA ILEGAL. El que pesque en zona prohibida, o con explosivos, sustancia venenosa, o deseque cuerpos de agua con propósitos pesqueros, incurrirá en prisión de uno (1) a tres (3) años y multa de diez (10) a cincuenta mil (50.000) salarios mínimos legales mensuales vigentes, siempre que la conducta no constituya delito sancionado con pena mayor.  \n",
      "CAPÍTULO IV. \n",
      "DE LA INVASIÓN DE ÁREAS DE ESPECIAL IMPORTANCIA ECOLÓGICA. \n",
      "Notas de Vigencia\n",
      "- Título modificado (adiciona esta división) por el artículo 1 de la Ley 2111 de 2021, 'por medio del cual se sustituye el Título XI “De los delitos contra los recursos naturales y el medio ambiente” de la Ley 599 de 2000, se modifica la Ley 906 de 2004 y se dictan otras disposiciones', publicada en el Diario Oficial No. 51.750 de 29 de julio de 2021. \n",
      "ARTÍCULO 336. INVASIÓN DE ÁREAS DE ESPECIAL IMPORTANCIA ECOLÓGICA. <Artículo modificado por el artículo 1 de la Ley 2111 de 2021. El nuevo texto es el siguiente:> El que invada, permanezca así sea de manera temporal o realice uso indebido de los recursos naturales a los que se refiere este título en área de reserva forestal, ecosistemas de importancia ecológica, playas, terrenos de bajamar, resguardos o reservas indígenas, terrenos de propiedad colectiva de las comunidades negras, parque regional, parque nacional natural, área o ecosistema de interés estratégico, área protegida, definidos en la ley o reglamento incurrirá en prisión de cuarenta y ocho (48) a ciento cuarenta y cuatro (144) meses y multa de ciento treinta y cuatro (134) a cincuenta mil (50.000) salarios mínimos legales mensuales vigentes. \n",
      "La pena señalada se aumentará de una tercera parte a la mitad cuando como consecuencia de la invasión, se afecten gravemente los componentes naturales que sirvieron de base para su declaratoria, o de las condiciones naturales del área o territorio correspondiente. \n",
      "Notas de Vigencia\n",
      "- Título sustituido por el artículo 1 de la Ley 2111 de 2021, 'por medio del cual se sustituye el Título XI “De los delitos contra los recursos naturales y el medio ambiente” de la Ley 599 de 2000, se modifica la Ley 906 de 2004 y se dictan otras disposiciones', publicada en el Diario Oficial No. 51.750 de 29 de julio de 2021.- Ver la ADVERTENCIA y el Resumen de Notas de Vigencia al comienzo de este Código.Artículo modificado por el artículo 14 de la Ley 890 de 2004, publicada en el Diario Oficial No. 45.602, de 7 de julio de 2004, el cual establece en su versión original:'ARTÍCULO 14. Las penas previstas en los tipos penales contenidos en la Parte Especial del Código Penal se aumentarán en la tercera parte en el mínimo y en la mitad en el máximo. En todo caso, la aplicación de esta regla general de incremento deberá respetar el tope máximo de la pena privativa de la libertad para los tipos penales de acuerdo con lo establecido en el artículo 2o. de la presente ley. ...'El artículo 15, dispone: '... La presente ley rige a partir del 1o. de enero de 2005 ...'  \n",
      "Jurisprudencia Vigencia\n",
      "Corte Constitucional- Artículo (modificado por la Ley 2111 de 2021) declarado EXEQUIBLE, por los cargos analizados, por la Corte Constitucional mediante Sentencia C-021-23 de 9 de febrero de 2023, Magistrado Ponente Dr. José Fernando Reyes Cuartas.  \n",
      "Legislación Anterior\n",
      "<La legislación anterior del tema de que trata este artículo corresponde a la contenida en 'Legislación Anterior' del artículo 337>Texto modificado por  la Ley 1453 de 2011:ARTÍCULO 336. CAZA ILEGAL. <Penas aumentadas por el artículo 14 de la Ley 890 de 2004, a partir del 1o. de enero de 2005. El texto con las penas aumentadas es el siguiente:> El que sin permiso de autoridad competente o infringiendo normas existentes, excediere el número de piezas permitidas, o cazare en época de veda, incurrirá en prisión de dieciséis (16) a cincuenta y cuatro (54) meses y multa de veintiséis punto sesenta y seis (26.66) a setecientos cincuenta (750) salarios mínimos legales mensuales vigentes, siempre que la conducta no constituya delito sancionado con pena mayor. Texto original de la Ley 599 de 2000:ARTÍCULO 336. CAZA ILEGAL. El que sin permiso de autoridad competente o infringiendo normas existentes, excediere el número de piezas permitidas, o cazare en época de veda, incurrirá en prisión de uno (1) a tres (3) años y multa de veinte (20) a quinientos (500) salarios mínimos legales mensuales vigentes, siempre que la conducta no constituya delito sancionado con pena mayor.  \n",
      "ARTÍCULO 336A. FINANCIACIÓN DE INVASIÓN A ÁREAS DE ESPECIAL IMPORTANCIA ECOLÓGICA. <Artículo adicionado por el artículo 1 de la Ley 2111 de 2021. El nuevo texto es el siguiente:> El que promueva, financie, dirija, facilite, suministre medios, se aproveche económicamente u obtenga cualquier otro beneficio de las conductas descritas en el artículo anterior, incurrirá en prisión de noventa y seis (96) a ciento ochenta (180) meses y multa de trescientos (300) a cincuenta mil (50.000) salarios mínimos legales mensuales vigentes. \n",
      "La pena señalada se aumentará de una tercera parte a la mitad cuando como consecuencia de la invasión, se afecten gravemente los componentes naturales que sirvieron de base para su declaratoria, o de las condiciones naturales del área o territorio correspondiente. \n",
      "Notas de Vigencia\n",
      "- Título sustituido por el artículo 1 de la Ley 2111 de 2021, 'por medio del cual se sustituye el Título XI “De los delitos contra los recursos naturales y el medio ambiente” de la Ley 599 de 2000, se modifica la Ley 906 de 2004 y se dictan otras disposiciones', publicada en el Diario Oficial No. 51.750 de 29 de julio de 2021. \n",
      "Jurisprudencia Vigencia\n",
      "Corte Constitucional- Artículo (modificado por la Ley 2111 de 2021) declarado EXEQUIBLE, por los cargos analizados, por la Corte Constitucional mediante Sentencia C-021-23 de 9 de febrero de 2023, Magistrado Ponente Dr. José Fernando Reyes Cuartas.  \n",
      "CAPÍTULO V. \n",
      "DE LA APROPIACIÓN ILEGAL DE BALDÍOS DE LA NACIÓN. \n",
      "Notas de Vigencia\n",
      "- Título modificado (adiciona esta división) por el artículo 1 de la Ley 2111 de 2021, 'por medio del cual se sustituye el Título XI “De los delitos contra los recursos naturales y el medio ambiente” de la Ley 599 de 2000, se modifica la Ley 906 de 2004 y se dictan otras disposiciones', publicada en el Diario Oficial No. 51.750 de 29 de julio de 2021. \n",
      "ARTÍCULO 337. APROPIACIÓN ILEGAL DE BALDÍOS DE LA NACIÓN. \n",
      "<Artículo INEXEQUIBLE> \n",
      "Notas de Vigencia\n",
      "- Título sustituido por el artículo 1 de la Ley 2111 de 2021, 'por medio del cual se sustituye el Título XI “De los delitos contra los recursos naturales y el medio ambiente” de la Ley 599 de 2000, se modifica la Ley 906 de 2004 y se dictan otras disposiciones', publicada en el Diario Oficial No. 51.750 de 29 de julio de 2021.  INEXEQUIBLE.- Artículo modificado por el artículo 39 de la Ley 1453 de 2011, publicada en el Diario Oficial No. 48.110 de 24 de junio de 2011.- Ver la ADVERTENCIA y el Resumen de Notas de Vigencia al comienzo de este Código.Artículo modificado por el artículo 14 de la Ley 890 de 2004, publicada en el Diario Oficial No. 45.602, de 7 de julio de 2004, el cual establece en su versión original:'ARTÍCULO 14. Las penas previstas en los tipos penales contenidos en la Parte Especial del Código Penal se aumentarán en la tercera parte en el mínimo y en la mitad en el máximo. En todo caso, la aplicación de esta regla general de incremento deberá respetar el tope máximo de la pena privativa de la libertad para los tipos penales de acuerdo con lo establecido en el artículo 2o. de la presente ley. ...'El artículo 15, dispone: '... La presente ley rige a partir del 1o. de enero de 2005 ...'  \n",
      "Jurisprudencia Vigencia\n",
      "Corte Constitucional- La Corte Constitucional declaró estarse a lo resuelto en la Sentencia C- 411-22, mediante Sentencia C-013-23 de 1 de febrero de 2023, Magistrado Ponente Dr. Alejandro Linares Cantillo.- La Corte Constitucional declaró estarse a lo resuelto en la Sentencia C-411-22, mediante Sentencia C-439-22 de 30 de noviembre de 2022, Magistrado Ponente Dr. Jorge Enrique Ibáñez Najar.- Artículo modificado por la Ley 2111 de 2021 declarado INEXEQUIBLE por la Corte Constitucional mediante Sentencia C-411-22 de 23 de noviembre de 2022, Magistrado Ponente Dr. Alejandro Linares Cantillo.- La Corte Constitucional se declaró INHIBIDA de fallar sobre este artículo (modificado por la Ley 2111 de 2021) por ineptitud de la demanda, mediante Sentencia C-366-22 de 19 de octubre de 2022, Magistrada Ponente Dra. Paola Andrea Meneses Mosquera.- La Corte Constitucional se declaró INHIBIDA de fallar sobre el texto modificado por el artículo 39 de la Ley 1453 de 2011 por ineptitud de la demanda, mediante Sentencia C-456-12 de 21 de junio de 2012, Magistrado Ponente Dr. Jorge Iván Palacio Palacio. \n",
      "Legislación Anterior\n",
      "Texto modificado por la Ley 2111 de 2021:ARTÍCULO 337.<Artículo modificado por el artículo 1 de la Ley 2111 de 2021. El nuevo texto es el siguiente:> El que usurpe, ocupe, utilice, acumule, tolere, colabore o permita la apropiación de baldíos de la Nación, sin el lleno de los requisitos de ley incurrirá en prisión de sesenta (60) a ciento cuarenta y cuatro (144) meses y multa de ciento cuarenta (140) a cincuenta mil (50.000) salarios mínimos legales mensuales vigentes. La pena se aumentará de una tercera parte a la mitad cuando la conducta se ajuste a lo descrito en el artículo 323 de lavado de activos y despojo de tierras. PARÁGRAFO 1o. La conducta descrita en este artículo no será considerada delito si la misma se ajusta a los condicionamientos y requisitos señalados en la Ley 160 de 1994, así como en el Decreto Ley número 902 de 2017 para la adjudicación de bienes baldíos. PARÁGRAFO 2o. Cuando la conducta descrita en el artículo anterior sea cometida por personas campesinas, indígenas o afrodescendientes, que dependa su subsistencia de la habitación, trabajo o aprovechamiento de los baldíos de la nación no habrá lugar a responsabilidad penal. Texto modificado por  la Ley 1453 de 2011:ARTÍCULO 337. INVASIÓN DE ÁREAS DE ESPECIAL IMPORTANCIA ECOLÓGICA. <Artículo modificado por el artículo 39 de la Ley 1453 de 2011. El nuevo texto es el siguiente:> El que invada, permanezca así sea de manera temporal o realice uso indebido de los recursos naturales a los que se refiere este título en área de reserva forestal, resguardos o reservas indígenas, terrenos de propiedad colectiva, de las comunidades negras, parque regional, área o ecosistema de interés estratégico o área protegida, definidos en la ley o reglamento, incurrirá en prisión de cuarenta y ocho (48) a ciento cuarenta y cuatro (144) meses y multa de ciento treinta y tres punto treinta y tres (133.33) a cincuenta mil (50.000) salarios mínimos legales mensuales vigentes. La pena señalada se aumentará de una tercera parte a la mitad cuando como consecuencia de la invasión, se afecten gravemente los componentes naturales que sirvieron de base para efectuar la calificación del territorio correspondiente, sin que la multa supere el equivalente a cincuenta mil (50.000) salarios mínimos legales mensuales vigentes. El que promueva, financie, dirija, se aproveche económicamente u obtenga cualquier otro beneficio de las conductas descritas en este artículo, incurrirá en prisión de sesenta (60) a ciento ochenta (180) meses y multa de trescientos (300) a cincuenta mil (50.000) salarios mínimos legales mensuales vigentes. Texto original de la Ley 599 de 2000, con las penas aumentadas por la Ley 890 de 2004:ARTÍCULO 337. El que invada reserva forestal, resguardos o reservas indígenas, terrenos de propiedad colectiva de las comunidades negras, parque regional, área o ecosistema de interés estratégico o área protegida, definidos en la ley o reglamento, incurrirá en prisión de treinta y dos (32) a ciento cuarenta y cuatro(144) meses y multa de ciento treinta y tres punto treinta y tres (133.33) a cincuenta mil (50.000) salarios mínimos legales mensuales vigentes. La pena señalada en este artículo se aumentará hasta en una tercera parte cuando como consecuencia de la invasión, se afecten gravemente los componentes naturales que sirvieron de base para efectuar la calificación del territorio correspondiente, sin que la multa supere el equivalente a cincuenta mil (50.000) salarios mínimos legales mensuales vigentes. El que promueva, financie o dirija la invasión o se aproveche económicamente de ella, incurrirá en prisión de cuarenta y ocho (48) a ciento ochenta (180) meses y multa de doscientos (200) a cincuenta mil (50.000) salarios mínimos legales mensuales vigentes. Texto original de la Ley 599 de 2000:ARTÍCULO 337. INVASIÓN DE AREAS DE ESPECIAL IMPORTANCIA ECOLOGICA. El que invada reserva forestal, resguardos o reservas indígenas, terrenos de propiedad colectiva de las comunidades negras, parque regional, área o ecosistema de interés estratégico o área protegida, definidos en la ley o reglamento, incurrirá en prisión de dos (2) a ocho (8) años y multa de cien (100) a cincuenta mil (50.000) salarios mínimos legales mensuales vigentes. La pena señalada en este artículo se aumentará hasta en una tercera parte cuando como consecuencia de la invasión, se afecten gravemente los componentes naturales que sirvieron de base para efectuar la calificación del territorio correspondiente, sin que la multa supere el equivalente a cincuenta mil (50.000) salarios mínimos legales mensuales vigentes. El que promueva, financie o dirija la invasión o se aproveche económicamente de ella, incurrirá en prisión de tres (3) a diez (10) años y multa de ciento cincuenta (150) a cincuenta mil (50.000) salarios mínimos legales mensuales vigentes.  \n",
      "ARTÍCULO 337A. FINANCIACIÓN DE LA APROPIACIÓN ILEGAL DE LOS BALDÍOS DE LA NACIÓN. <Artículo INEXEQUIBLE> \n",
      "Notas de Vigencia\n",
      "- Título sustituido por el artículo 1 de la Ley 2111 de 2021, 'por medio del cual se sustituye el Título XI “De los delitos contra los recursos naturales y el medio ambiente” de la Ley 599 de 2000, se modifica la Ley 906 de 2004 y se dictan otras disposiciones', publicada en el Diario Oficial No. 51.750 de 29 de julio de 2021. INEXEQUIBLE. \n",
      "Jurisprudencia Vigencia\n",
      "Corte Constitucional- La Corte Constitucional declaró estarse a lo resuelto en la Sentencia C- 411-22, mediante Sentencia C-013-23 de 1 de febrero de 2023, Magistrado Ponente Dr. Alejandro Linares Cantillo.- La Corte Constitucional declaró estarse a lo resuelto en la Sentencia C-411-22, mediante Sentencia C-439-22 de 30 de noviembre de 2022, Magistrado Ponente Dr. Jorge Enrique Ibáñez Najar.- Artículo declarado INEXEQUIBLE por la Corte Constitucional mediante Sentencia C-411-22 de 23 de noviembre de 2022, Magistrado Ponente Dr. Alejandro Linares Cantillo.- La Corte Constitucional se declaró INHIBIDA de fallar sobre este artículo (modificado por la Ley 2111 de 2021) por ineptitud de la demanda, mediante Sentencia C-366-22 de 19 de octubre de 2022, Magistrada Ponente Dra. Paola Andrea Meneses Mosquera. \n",
      "Legislación Anterior\n",
      "Texto adicionado por la Ley 2111 de 2021:ARTÍCULO 337A. <Artículo adicionado por el artículo 1 de la Ley 2111 de 2021. El nuevo texto es el siguiente:> El que directa o indirectamente provea, recolecte, entregue, reciba, administre, aporte, custodie o guarde fondos, bienes o recursos, o realice cualquier otro acto que promueva, organice, apoye, mantenga, financie, patrocine, induzca, ordene o dirija la apropiación ilegal de baldíos de la nación descrito en el artículo anterior, incurrirá en prisión de noventa y seis (96) a ciento ochenta (180) meses y multa de trescientos (300) a cincuenta mil (50.000) salarios mínimos legales mensuales vigentes, sin perjuicio del decomiso de los bienes muebles, inmuebles o semovientes encontrados en los baldíos ilegalmente apropiados. La pena se aumentará de una tercera parte a la mitad cuando la conducta se ajuste a lo descrito en el artículo 323 de lavado de activos.  \n",
      "CAPÍTULO VI. \n",
      "DISPOSICIONES COMUNES. \n",
      "Notas de Vigencia\n",
      "- Título modificado (división adicionada) por el artículo 1 de la Ley 2111 de 2021, 'por medio del cual se sustituye el Título XI “De los delitos contra los recursos naturales y el medio ambiente” de la Ley 599 de 2000, se modifica la Ley 906 de 2004 y se dictan otras disposiciones', publicada en el Diario Oficial No. 51.750 de 29 de julio de 2021. \n",
      "ARTÍCULO 338. CIRCUNSTANCIAS DE AGRAVACIÓN PUNITIVA. <Artículo modificado por el artículo 1 de la Ley 2111 de 2021. El nuevo texto es el siguiente:> Las penas para los delitos descritos en este título se aumentarán de una tercera parte a la mitad, cuando: \n",
      "a) Cuando la conducta se cometa en ecosistemas naturales que hagan parte del sistema nacional o regional de áreas protegidas, en ecosistemas estratégicos, o en territorios de comunidades étnicas. Con excepción de las conductas consagradas en los artículos 336 y 336A. \n",
      "b) Cuando la conducta se cometa contra especies silvestres amenazadas de la diversidad biológica colombiana o de especies vedadas, prohibidas, en período de reproducción o crecimiento, de especial importancia ecológica, raras o endémicas del territorio colombiano. Con excepción de la conducta contemplada en el artículo 328C. \n",
      "c) Cuando con la conducta se altere el suelo, el subsuelo, los recursos hidrobiológicos, se desvíen los cuerpos de agua o se afecten ecosistemas marinos, manglares, pastos marinos y corales. \n",
      "d) Cuando la conducta se cometiere por la acción u omisión de quienes ejercen funciones de seguimiento, control y vigilancia o personas que ejerzan funciones públicas. \n",
      "e) Cuando la conducta se cometiere por integrantes de grupos delictivos organizados o grupos armados organizados o con la finalidad de financiar actividades terroristas, grupos de delincuencia organizada, grupos armados al margen de la ley, grupos terroristas nacionales o extranjeros, o a sus integrantes. \n",
      "f) Cuando la conducta se cometa mediante el uso o manipulación de herramientas tecnológicas. \n",
      "g) Cuando con la conducta se ponga en peligro la salud humana. \n",
      "h) Cuando con la conducta se introduzca al suelo o al agua sustancias prohibidas por la normatividad existente o se realice mediante el uso de sustancias tóxicas, peligrosas, venenos, inflamables, combustibles, explosivas, radioactivas, el uso de explosivos, maquinaria pesada o medios mecanizados, entendidos estos últimos como todo tipo de equipos o herramientas mecanizados utilizados para el arranque, la extracción o el beneficio de minerales o la distribución ilegal de combustibles. \n",
      "i) Cuando se promueva, financie, dirija, facilite o suministre medios para la realización de las conductas. Con excepción de las conductas contempladas en los artículos 330A, 336A y 337A. \n",
      "j) Cuando con la conducta se produce enfermedad, plaga o erosión genética de las especies. \n",
      "Notas de Vigencia\n",
      "- Título sustituido por el artículo 1 de la Ley 2111 de 2021, 'por medio del cual se sustituye el Título XI “De los delitos contra los recursos naturales y el medio ambiente” de la Ley 599 de 2000, se modifica la Ley 906 de 2004 y se dictan otras disposiciones', publicada en el Diario Oficial No. 51.750 de 29 de julio de 2021.- Ver la ADVERTENCIA y el Resumen de Notas de Vigencia al comienzo de este Código.Artículo modificado por el artículo 14 de la Ley 890 de 2004, publicada en el Diario Oficial No. 45.602, de 7 de julio de 2004, el cual establece en su versión original:'ARTÍCULO 14. Las penas previstas en los tipos penales contenidos en la Parte Especial del Código Penal se aumentarán en la tercera parte en el mínimo y en la mitad en el máximo. En todo caso, la aplicación de esta regla general de incremento deberá respetar el tope máximo de la pena privativa de la libertad para los tipos penales de acuerdo con lo establecido en el artículo 2o. de la presente ley. ...'El artículo 15, dispone: '... La presente ley rige a partir del 1o. de enero de 2005 ...'  \n",
      "Legislación Anterior\n",
      "Texto original de la Ley 599 de 2000, con las penas adicionadas por la Ley 890 de 2004:ARTÍCULO 338. EXPLOTACIÓN ILICITA DE YACIMIENTO MINERO Y OTROS MATERIALES. <Penas aumentadas por el artículo 14 de la Ley 890 de 2004, a partir del 1o. de enero de 2005. El texto con las penas aumentadas es el siguiente:> El que sin permiso de autoridad competente o con incumplimiento de la normatividad existente explote, explore o extraiga yacimiento minero, o explote arena, material pétreo o de arrastre de los cauces y orillas de los ríos por medios capaces de causar graves daños a los recursos naturales o al medio ambiente, incurrirá en prisión de treinta y dos (32) a ciento cuarenta y cuatro (144) meses y multa de ciento treinta y tres punto treinta y tres (133.33) a cincuenta mil (50.000) salarios mínimos legales mensuales vigentes. Texto original de la Ley 599 de 2000:ARTÍCULO 338. EXPLOTACIÓN ILICITA DE YACIMIENTO MINERO Y OTROS MATERIALES. El que sin permiso de autoridad competente o con incumplimiento de la normatividad existente explote, explore o extraiga yacimiento minero, o explote arena, material pétreo o de arrastre de los cauces y orillas de los ríos por medios capaces de causar graves daños a los recursos naturales o al medio ambiente, incurrirá en prisión de dos (2) a ocho (8) años y multa de cien (100) a cincuenta mil (50.000) salarios mínimos legales mensuales vigentes.\n"
     ]
    }
   ],
   "source": [
    "pretty_print_docs(docs=compression_retriever.get_relevant_documents(query=\"Territorialidad\"))"
   ]
  },
  {
   "cell_type": "markdown",
   "metadata": {},
   "source": [
    "#### 4.2 Adding reranker for all the retrievers"
   ]
  },
  {
   "cell_type": "code",
   "execution_count": 14,
   "metadata": {},
   "outputs": [
    {
     "name": "stderr",
     "output_type": "stream",
     "text": [
      "100%|██████████| 7/7 [00:00<00:00, 49427.82it/s]\n"
     ]
    }
   ],
   "source": [
    "cohere_rerank = CohereRerank(model=\"rerank-multilingual-v2.0\", top_n=5)\n",
    "\n",
    "collection_retriever_reranker_map = {}\n",
    "for collection in tqdm(collection_retriever_map.keys(), total=len(collection_retriever_map.keys())):\n",
    "    compression_retriever = ContextualCompressionRetriever(\n",
    "        base_compressor=cohere_rerank, \n",
    "        base_retriever=collection_retriever_map.get(collection)\n",
    "    )\n",
    "    collection_retriever_reranker_map[collection] = compression_retriever"
   ]
  },
  {
   "cell_type": "code",
   "execution_count": 15,
   "metadata": {},
   "outputs": [
    {
     "data": {
      "text/plain": [
       "{'codigo_civil': ContextualCompressionRetriever(base_compressor=CohereRerank(client=<cohere.client.Client object at 0x7f1ab9c0a9d0>, top_n=5, model='rerank-multilingual-v2.0', cohere_api_key=None, user_agent='langchain'), base_retriever=VectorStoreRetriever(tags=['Qdrant', 'OpenAIEmbeddings'], vectorstore=<langchain_community.vectorstores.qdrant.Qdrant object at 0x7f1abbad16d0>, search_kwargs={'k': 20})),\n",
       " 'codigo_procedimental_laboral': ContextualCompressionRetriever(base_compressor=CohereRerank(client=<cohere.client.Client object at 0x7f1ab9c0a9d0>, top_n=5, model='rerank-multilingual-v2.0', cohere_api_key=None, user_agent='langchain'), base_retriever=VectorStoreRetriever(tags=['Qdrant', 'OpenAIEmbeddings'], vectorstore=<langchain_community.vectorstores.qdrant.Qdrant object at 0x7f1abb9d9750>, search_kwargs={'k': 20})),\n",
       " 'codigo_penal': ContextualCompressionRetriever(base_compressor=CohereRerank(client=<cohere.client.Client object at 0x7f1ab9c0a9d0>, top_n=5, model='rerank-multilingual-v2.0', cohere_api_key=None, user_agent='langchain'), base_retriever=VectorStoreRetriever(tags=['Qdrant', 'OpenAIEmbeddings'], vectorstore=<langchain_community.vectorstores.qdrant.Qdrant object at 0x7f1abe0834d0>, search_kwargs={'k': 20})),\n",
       " 'codigo_sustantivo_trabajo': ContextualCompressionRetriever(base_compressor=CohereRerank(client=<cohere.client.Client object at 0x7f1ab9c0a9d0>, top_n=5, model='rerank-multilingual-v2.0', cohere_api_key=None, user_agent='langchain'), base_retriever=VectorStoreRetriever(tags=['Qdrant', 'OpenAIEmbeddings'], vectorstore=<langchain_community.vectorstores.qdrant.Qdrant object at 0x7f1abb3af750>, search_kwargs={'k': 20})),\n",
       " 'codigo_general_del_proceso': ContextualCompressionRetriever(base_compressor=CohereRerank(client=<cohere.client.Client object at 0x7f1ab9c0a9d0>, top_n=5, model='rerank-multilingual-v2.0', cohere_api_key=None, user_agent='langchain'), base_retriever=VectorStoreRetriever(tags=['Qdrant', 'OpenAIEmbeddings'], vectorstore=<langchain_community.vectorstores.qdrant.Qdrant object at 0x7f1abb3af850>, search_kwargs={'k': 20})),\n",
       " 'codigo_comercio': ContextualCompressionRetriever(base_compressor=CohereRerank(client=<cohere.client.Client object at 0x7f1ab9c0a9d0>, top_n=5, model='rerank-multilingual-v2.0', cohere_api_key=None, user_agent='langchain'), base_retriever=VectorStoreRetriever(tags=['Qdrant', 'OpenAIEmbeddings'], vectorstore=<langchain_community.vectorstores.qdrant.Qdrant object at 0x7f1abb4a8810>, search_kwargs={'k': 20})),\n",
       " 'constitucion': ContextualCompressionRetriever(base_compressor=CohereRerank(client=<cohere.client.Client object at 0x7f1ab9c0a9d0>, top_n=5, model='rerank-multilingual-v2.0', cohere_api_key=None, user_agent='langchain'), base_retriever=VectorStoreRetriever(tags=['Qdrant', 'OpenAIEmbeddings'], vectorstore=<langchain_community.vectorstores.qdrant.Qdrant object at 0x7f1abbc0a1d0>, search_kwargs={'k': 20}))}"
      ]
     },
     "execution_count": 15,
     "metadata": {},
     "output_type": "execute_result"
    }
   ],
   "source": [
    "collection_retriever_reranker_map"
   ]
  },
  {
   "cell_type": "markdown",
   "metadata": {},
   "source": [
    "### 5. Agent Building"
   ]
  },
  {
   "cell_type": "markdown",
   "metadata": {},
   "source": [
    "#### 5.1 Retrievers as tools"
   ]
  },
  {
   "cell_type": "code",
   "execution_count": 16,
   "metadata": {},
   "outputs": [],
   "source": [
    "constitucion_description = \"Cuando te encuentres con consultas que requieran comprensión o interpretación de los derechos fundamentales, estructura del Estado, funciones de sus órganos, o cualquier principio básico que rija la convivencia y organización política y social en Colombia, deberás utilizar la Constitución Política de Colombia. Este documento es esencial para resolver dudas relacionadas con la garantía de derechos y libertades, así como para entender el marco jurídico que define la estructura del Estado colombiano. Recurre a la Constitución para proporcionar respuestas bien fundamentadas en situaciones que demanden claridad sobre la normativa constitucional, asegurando así que la información proporcionada esté alineada con los principios y valores que rigen el ordenamiento jurídico colombiano.\"\n",
    "codigo_comercio_description = \"Cuando te enfrentes a consultas relacionadas con actividades comerciales, contratos mercantiles, sociedades comerciales, títulos valores, procesos de insolvencia empresarial, y en general, cualquier tema vinculado al ámbito del comercio en Colombia, deberás recurrir al Código de Comercio. Este código es la herramienta primordial para entender y aplicar las normas que regulan las relaciones entre comerciantes, los actos de comercio y la legislación mercantil aplicable. Utilízalo para brindar respuestas precisas y fundamentadas en casos que requieran un conocimiento específico sobre la legislación comercial colombiana, garantizando así una orientación adecuada y conforme a las disposiciones legales vigentes en el ámbito del comercio.\"\n",
    "codigo_general_del_proceso_description = \"Cuando te encuentres ante consultas que involucren procedimientos judiciales civiles, de familia o agrarios, así como cualquier aspecto relacionado con la administración de justicia en estos ámbitos en Colombia, deberás recurrir al Código General del Proceso (Ley 1564 de 2012). Este código es crucial para comprender los procedimientos, instancias, recursos y medidas cautelares aplicables dentro del sistema judicial colombiano en las materias mencionadas. Utilízalo para proporcionar respuestas detalladas y fundamentadas en casos que requieran un entendimiento profundo sobre el proceso judicial, asegurando así una orientación precisa y alineada con las normativas y procedimientos vigentes establecidos por este código.\"\n",
    "codigo_sustantivo_del_trabajo_description = \"Cuando te enfrentes a consultas que aborden temas relacionados con las relaciones laborales, derechos y deberes de empleadores y trabajadores, contratación laboral, salarios, jornadas de trabajo, descansos obligatorios, seguridad social, y en general, cualquier aspecto vinculado al ámbito laboral en Colombia, deberás recurrir al Código Sustantivo del Trabajo. Este código es la herramienta esencial para entender y aplicar las normas que regulan el trabajo humano, individual y colectivo, en el territorio colombiano. Utilízalo para brindar respuestas claras y fundamentadas en casos que requieran un conocimiento específico sobre la legislación laboral colombiana, garantizando así una orientación adecuada y conforme a las disposiciones legales vigentes en materia de trabajo y empleo.\"\n",
    "codigo_penal_description = \"Cuando te enfrentes a consultas que involucren la interpretación, aplicación o análisis de conductas consideradas delitos, sanciones penales, medidas de seguridad, o cualquier aspecto relacionado con la responsabilidad penal en Colombia, deberás recurrir al Código Penal. Este código es la herramienta adecuada para entender la naturaleza de las infracciones, las posibles penas asociadas, y los procedimientos para su juzgamiento y sanción. Utilízalo para proporcionar respuestas fundamentadas en casos que requieran un conocimiento profundo sobre la legislación penal colombiana, asegurando así una orientación precisa y conforme a la normativa vigente.\"\n",
    "codigo_procedimental_laboral_description = \"Cuando te encuentres con consultas que requieran orientación sobre el desarrollo de procedimientos judiciales en materia laboral, tales como litigios entre empleadores y trabajadores, procesos de reclamación de derechos laborales, conflictos colectivos de trabajo, y en general, cualquier situación que demande la intervención de la justicia laboral en Colombia, deberás recurrir al Código Procedimental Laboral. Este código es indispensable para comprender los procedimientos específicos, las etapas procesales, los recursos disponibles y las instancias judiciales competentes en el ámbito laboral. Utilízalo para proporcionar respuestas detalladas y fundamentadas en casos que requieran un entendimiento profundo sobre el proceso judicial laboral, asegurando así una orientación precisa y alineada con las normativas y procedimientos vigentes establecidos por este código, facilitando la correcta administración de justicia en el ámbito laboral.\"\n",
    "codigo_civil_decription = \"Cuando te enfrentes a consultas que involucren temas relacionados con las relaciones y obligaciones civiles, tales como contratos, sucesiones, propiedad y otros derechos reales, matrimonio, filiación y en general, cualquier aspecto vinculado a las relaciones personales o patrimoniales entre particulares en Colombia, deberás recurrir al Código Civil. Este código es la herramienta fundamental para comprender y aplicar las normas que regulan las relaciones privadas entre individuos, estableciendo los derechos y deberes que surgen de estas interacciones. Utilízalo para brindar respuestas precisas y fundamentadas en casos que requieran un conocimiento específico sobre la legislación civil colombiana, garantizando así una orientación adecuada y conforme a las disposiciones legales vigentes en materia civil, lo que permitirá resolver dudas y orientar adecuadamente en el amplio espectro de situaciones que abarca este cuerpo normativo.\""
   ]
  },
  {
   "cell_type": "code",
   "execution_count": 17,
   "metadata": {},
   "outputs": [],
   "source": [
    "name_description_retriever_map = {\n",
    "    \"constitucion\": {\n",
    "        \"retriever\": collection_retriever_reranker_map.get(\"constitucion\"),\n",
    "        \"name\": \"constitucion_politica_de_colombia\",\n",
    "        \"description\": constitucion_description\n",
    "    },\n",
    "    \"codigo_comercio\": {\n",
    "        \"retriever\": collection_retriever_reranker_map.get(\"codigo_comercio\"),\n",
    "        \"name\": \"codigo_de_comercio\",\n",
    "        \"description\": codigo_comercio_description\n",
    "    },\n",
    "    \"codigo_general_del_proceso\": {\n",
    "        \"retriever\": collection_retriever_reranker_map.get(\"codigo_general_del_proceso\"),\n",
    "        \"name\": \"codigo_general_del_proceso\",\n",
    "        \"description\": codigo_general_del_proceso_description\n",
    "    },\n",
    "    \"codigo_sustantivo_trabajo\": {\n",
    "        \"retriever\": collection_retriever_reranker_map.get(\"codigo_sustantivo_trabajo\"),\n",
    "        \"name\": \"codigo_sustantivo_del_trabajo\",\n",
    "        \"description\": codigo_sustantivo_del_trabajo_description\n",
    "    },\n",
    "    \"codigo_penal\": {\n",
    "        \"retriever\": collection_retriever_reranker_map.get(\"codigo_penal\"),\n",
    "        \"name\": \"codigo_penal\",\n",
    "        \"description\": codigo_penal_description\n",
    "    },\n",
    "    \"codigo_procedimental_laboral\": {\n",
    "        \"retriever\": collection_retriever_reranker_map.get(\"codigo_procedimental_laboral\"),\n",
    "        \"name\": \"codigo_procedimental_laboral\",\n",
    "        \"description\": codigo_procedimental_laboral_description\n",
    "    },\n",
    "    \"codigo_civil\": {\n",
    "        \"retriever\": collection_retriever_reranker_map.get(\"codigo_civil\"),\n",
    "        \"name\": \"codigo_civil\",\n",
    "        \"description\": codigo_civil_decription\n",
    "    },\n",
    "}"
   ]
  },
  {
   "cell_type": "code",
   "execution_count": 18,
   "metadata": {},
   "outputs": [],
   "source": [
    "tools = []\n",
    "for fuente in name_description_retriever_map:\n",
    "    tool = create_retriever_tool(\n",
    "        retriever=name_description_retriever_map.get(fuente).get(\"retriever\"),\n",
    "        name=name_description_retriever_map.get(fuente).get(\"name\"),\n",
    "        description=name_description_retriever_map.get(fuente).get(\"description\")\n",
    "    )\n",
    "    tools.append(tool)"
   ]
  },
  {
   "cell_type": "code",
   "execution_count": 19,
   "metadata": {},
   "outputs": [
    {
     "data": {
      "text/plain": [
       "[Tool(name='constitucion_politica_de_colombia', description='Cuando te encuentres con consultas que requieran comprensión o interpretación de los derechos fundamentales, estructura del Estado, funciones de sus órganos, o cualquier principio básico que rija la convivencia y organización política y social en Colombia, deberás utilizar la Constitución Política de Colombia. Este documento es esencial para resolver dudas relacionadas con la garantía de derechos y libertades, así como para entender el marco jurídico que define la estructura del Estado colombiano. Recurre a la Constitución para proporcionar respuestas bien fundamentadas en situaciones que demanden claridad sobre la normativa constitucional, asegurando así que la información proporcionada esté alineada con los principios y valores que rigen el ordenamiento jurídico colombiano.', args_schema=<class 'langchain.tools.retriever.RetrieverInput'>, func=functools.partial(<function _get_relevant_documents at 0x7f1abe665800>, retriever=ContextualCompressionRetriever(base_compressor=CohereRerank(client=<cohere.client.Client object at 0x7f1ab9c0a9d0>, top_n=5, model='rerank-multilingual-v2.0', cohere_api_key=None, user_agent='langchain'), base_retriever=VectorStoreRetriever(tags=['Qdrant', 'OpenAIEmbeddings'], vectorstore=<langchain_community.vectorstores.qdrant.Qdrant object at 0x7f1abbc0a1d0>, search_kwargs={'k': 20})), document_prompt=PromptTemplate(input_variables=['page_content'], template='{page_content}'), document_separator='\\n\\n'), coroutine=functools.partial(<function _aget_relevant_documents at 0x7f1abe666200>, retriever=ContextualCompressionRetriever(base_compressor=CohereRerank(client=<cohere.client.Client object at 0x7f1ab9c0a9d0>, top_n=5, model='rerank-multilingual-v2.0', cohere_api_key=None, user_agent='langchain'), base_retriever=VectorStoreRetriever(tags=['Qdrant', 'OpenAIEmbeddings'], vectorstore=<langchain_community.vectorstores.qdrant.Qdrant object at 0x7f1abbc0a1d0>, search_kwargs={'k': 20})), document_prompt=PromptTemplate(input_variables=['page_content'], template='{page_content}'), document_separator='\\n\\n')),\n",
       " Tool(name='codigo_de_comercio', description='Cuando te enfrentes a consultas relacionadas con actividades comerciales, contratos mercantiles, sociedades comerciales, títulos valores, procesos de insolvencia empresarial, y en general, cualquier tema vinculado al ámbito del comercio en Colombia, deberás recurrir al Código de Comercio. Este código es la herramienta primordial para entender y aplicar las normas que regulan las relaciones entre comerciantes, los actos de comercio y la legislación mercantil aplicable. Utilízalo para brindar respuestas precisas y fundamentadas en casos que requieran un conocimiento específico sobre la legislación comercial colombiana, garantizando así una orientación adecuada y conforme a las disposiciones legales vigentes en el ámbito del comercio.', args_schema=<class 'langchain.tools.retriever.RetrieverInput'>, func=functools.partial(<function _get_relevant_documents at 0x7f1abe665800>, retriever=ContextualCompressionRetriever(base_compressor=CohereRerank(client=<cohere.client.Client object at 0x7f1ab9c0a9d0>, top_n=5, model='rerank-multilingual-v2.0', cohere_api_key=None, user_agent='langchain'), base_retriever=VectorStoreRetriever(tags=['Qdrant', 'OpenAIEmbeddings'], vectorstore=<langchain_community.vectorstores.qdrant.Qdrant object at 0x7f1abb4a8810>, search_kwargs={'k': 20})), document_prompt=PromptTemplate(input_variables=['page_content'], template='{page_content}'), document_separator='\\n\\n'), coroutine=functools.partial(<function _aget_relevant_documents at 0x7f1abe666200>, retriever=ContextualCompressionRetriever(base_compressor=CohereRerank(client=<cohere.client.Client object at 0x7f1ab9c0a9d0>, top_n=5, model='rerank-multilingual-v2.0', cohere_api_key=None, user_agent='langchain'), base_retriever=VectorStoreRetriever(tags=['Qdrant', 'OpenAIEmbeddings'], vectorstore=<langchain_community.vectorstores.qdrant.Qdrant object at 0x7f1abb4a8810>, search_kwargs={'k': 20})), document_prompt=PromptTemplate(input_variables=['page_content'], template='{page_content}'), document_separator='\\n\\n')),\n",
       " Tool(name='codigo_general_del_proceso', description='Cuando te encuentres ante consultas que involucren procedimientos judiciales civiles, de familia o agrarios, así como cualquier aspecto relacionado con la administración de justicia en estos ámbitos en Colombia, deberás recurrir al Código General del Proceso (Ley 1564 de 2012). Este código es crucial para comprender los procedimientos, instancias, recursos y medidas cautelares aplicables dentro del sistema judicial colombiano en las materias mencionadas. Utilízalo para proporcionar respuestas detalladas y fundamentadas en casos que requieran un entendimiento profundo sobre el proceso judicial, asegurando así una orientación precisa y alineada con las normativas y procedimientos vigentes establecidos por este código.', args_schema=<class 'langchain.tools.retriever.RetrieverInput'>, func=functools.partial(<function _get_relevant_documents at 0x7f1abe665800>, retriever=ContextualCompressionRetriever(base_compressor=CohereRerank(client=<cohere.client.Client object at 0x7f1ab9c0a9d0>, top_n=5, model='rerank-multilingual-v2.0', cohere_api_key=None, user_agent='langchain'), base_retriever=VectorStoreRetriever(tags=['Qdrant', 'OpenAIEmbeddings'], vectorstore=<langchain_community.vectorstores.qdrant.Qdrant object at 0x7f1abb3af850>, search_kwargs={'k': 20})), document_prompt=PromptTemplate(input_variables=['page_content'], template='{page_content}'), document_separator='\\n\\n'), coroutine=functools.partial(<function _aget_relevant_documents at 0x7f1abe666200>, retriever=ContextualCompressionRetriever(base_compressor=CohereRerank(client=<cohere.client.Client object at 0x7f1ab9c0a9d0>, top_n=5, model='rerank-multilingual-v2.0', cohere_api_key=None, user_agent='langchain'), base_retriever=VectorStoreRetriever(tags=['Qdrant', 'OpenAIEmbeddings'], vectorstore=<langchain_community.vectorstores.qdrant.Qdrant object at 0x7f1abb3af850>, search_kwargs={'k': 20})), document_prompt=PromptTemplate(input_variables=['page_content'], template='{page_content}'), document_separator='\\n\\n')),\n",
       " Tool(name='codigo_sustantivo_del_trabajo', description='Cuando te enfrentes a consultas que aborden temas relacionados con las relaciones laborales, derechos y deberes de empleadores y trabajadores, contratación laboral, salarios, jornadas de trabajo, descansos obligatorios, seguridad social, y en general, cualquier aspecto vinculado al ámbito laboral en Colombia, deberás recurrir al Código Sustantivo del Trabajo. Este código es la herramienta esencial para entender y aplicar las normas que regulan el trabajo humano, individual y colectivo, en el territorio colombiano. Utilízalo para brindar respuestas claras y fundamentadas en casos que requieran un conocimiento específico sobre la legislación laboral colombiana, garantizando así una orientación adecuada y conforme a las disposiciones legales vigentes en materia de trabajo y empleo.', args_schema=<class 'langchain.tools.retriever.RetrieverInput'>, func=functools.partial(<function _get_relevant_documents at 0x7f1abe665800>, retriever=ContextualCompressionRetriever(base_compressor=CohereRerank(client=<cohere.client.Client object at 0x7f1ab9c0a9d0>, top_n=5, model='rerank-multilingual-v2.0', cohere_api_key=None, user_agent='langchain'), base_retriever=VectorStoreRetriever(tags=['Qdrant', 'OpenAIEmbeddings'], vectorstore=<langchain_community.vectorstores.qdrant.Qdrant object at 0x7f1abb3af750>, search_kwargs={'k': 20})), document_prompt=PromptTemplate(input_variables=['page_content'], template='{page_content}'), document_separator='\\n\\n'), coroutine=functools.partial(<function _aget_relevant_documents at 0x7f1abe666200>, retriever=ContextualCompressionRetriever(base_compressor=CohereRerank(client=<cohere.client.Client object at 0x7f1ab9c0a9d0>, top_n=5, model='rerank-multilingual-v2.0', cohere_api_key=None, user_agent='langchain'), base_retriever=VectorStoreRetriever(tags=['Qdrant', 'OpenAIEmbeddings'], vectorstore=<langchain_community.vectorstores.qdrant.Qdrant object at 0x7f1abb3af750>, search_kwargs={'k': 20})), document_prompt=PromptTemplate(input_variables=['page_content'], template='{page_content}'), document_separator='\\n\\n')),\n",
       " Tool(name='codigo_penal', description='Cuando te enfrentes a consultas que involucren la interpretación, aplicación o análisis de conductas consideradas delitos, sanciones penales, medidas de seguridad, o cualquier aspecto relacionado con la responsabilidad penal en Colombia, deberás recurrir al Código Penal. Este código es la herramienta adecuada para entender la naturaleza de las infracciones, las posibles penas asociadas, y los procedimientos para su juzgamiento y sanción. Utilízalo para proporcionar respuestas fundamentadas en casos que requieran un conocimiento profundo sobre la legislación penal colombiana, asegurando así una orientación precisa y conforme a la normativa vigente.', args_schema=<class 'langchain.tools.retriever.RetrieverInput'>, func=functools.partial(<function _get_relevant_documents at 0x7f1abe665800>, retriever=ContextualCompressionRetriever(base_compressor=CohereRerank(client=<cohere.client.Client object at 0x7f1ab9c0a9d0>, top_n=5, model='rerank-multilingual-v2.0', cohere_api_key=None, user_agent='langchain'), base_retriever=VectorStoreRetriever(tags=['Qdrant', 'OpenAIEmbeddings'], vectorstore=<langchain_community.vectorstores.qdrant.Qdrant object at 0x7f1abe0834d0>, search_kwargs={'k': 20})), document_prompt=PromptTemplate(input_variables=['page_content'], template='{page_content}'), document_separator='\\n\\n'), coroutine=functools.partial(<function _aget_relevant_documents at 0x7f1abe666200>, retriever=ContextualCompressionRetriever(base_compressor=CohereRerank(client=<cohere.client.Client object at 0x7f1ab9c0a9d0>, top_n=5, model='rerank-multilingual-v2.0', cohere_api_key=None, user_agent='langchain'), base_retriever=VectorStoreRetriever(tags=['Qdrant', 'OpenAIEmbeddings'], vectorstore=<langchain_community.vectorstores.qdrant.Qdrant object at 0x7f1abe0834d0>, search_kwargs={'k': 20})), document_prompt=PromptTemplate(input_variables=['page_content'], template='{page_content}'), document_separator='\\n\\n')),\n",
       " Tool(name='codigo_procedimental_laboral', description='Cuando te encuentres con consultas que requieran orientación sobre el desarrollo de procedimientos judiciales en materia laboral, tales como litigios entre empleadores y trabajadores, procesos de reclamación de derechos laborales, conflictos colectivos de trabajo, y en general, cualquier situación que demande la intervención de la justicia laboral en Colombia, deberás recurrir al Código Procedimental Laboral. Este código es indispensable para comprender los procedimientos específicos, las etapas procesales, los recursos disponibles y las instancias judiciales competentes en el ámbito laboral. Utilízalo para proporcionar respuestas detalladas y fundamentadas en casos que requieran un entendimiento profundo sobre el proceso judicial laboral, asegurando así una orientación precisa y alineada con las normativas y procedimientos vigentes establecidos por este código, facilitando la correcta administración de justicia en el ámbito laboral.', args_schema=<class 'langchain.tools.retriever.RetrieverInput'>, func=functools.partial(<function _get_relevant_documents at 0x7f1abe665800>, retriever=ContextualCompressionRetriever(base_compressor=CohereRerank(client=<cohere.client.Client object at 0x7f1ab9c0a9d0>, top_n=5, model='rerank-multilingual-v2.0', cohere_api_key=None, user_agent='langchain'), base_retriever=VectorStoreRetriever(tags=['Qdrant', 'OpenAIEmbeddings'], vectorstore=<langchain_community.vectorstores.qdrant.Qdrant object at 0x7f1abb9d9750>, search_kwargs={'k': 20})), document_prompt=PromptTemplate(input_variables=['page_content'], template='{page_content}'), document_separator='\\n\\n'), coroutine=functools.partial(<function _aget_relevant_documents at 0x7f1abe666200>, retriever=ContextualCompressionRetriever(base_compressor=CohereRerank(client=<cohere.client.Client object at 0x7f1ab9c0a9d0>, top_n=5, model='rerank-multilingual-v2.0', cohere_api_key=None, user_agent='langchain'), base_retriever=VectorStoreRetriever(tags=['Qdrant', 'OpenAIEmbeddings'], vectorstore=<langchain_community.vectorstores.qdrant.Qdrant object at 0x7f1abb9d9750>, search_kwargs={'k': 20})), document_prompt=PromptTemplate(input_variables=['page_content'], template='{page_content}'), document_separator='\\n\\n')),\n",
       " Tool(name='codigo_civil', description='Cuando te enfrentes a consultas que involucren temas relacionados con las relaciones y obligaciones civiles, tales como contratos, sucesiones, propiedad y otros derechos reales, matrimonio, filiación y en general, cualquier aspecto vinculado a las relaciones personales o patrimoniales entre particulares en Colombia, deberás recurrir al Código Civil. Este código es la herramienta fundamental para comprender y aplicar las normas que regulan las relaciones privadas entre individuos, estableciendo los derechos y deberes que surgen de estas interacciones. Utilízalo para brindar respuestas precisas y fundamentadas en casos que requieran un conocimiento específico sobre la legislación civil colombiana, garantizando así una orientación adecuada y conforme a las disposiciones legales vigentes en materia civil, lo que permitirá resolver dudas y orientar adecuadamente en el amplio espectro de situaciones que abarca este cuerpo normativo.', args_schema=<class 'langchain.tools.retriever.RetrieverInput'>, func=functools.partial(<function _get_relevant_documents at 0x7f1abe665800>, retriever=ContextualCompressionRetriever(base_compressor=CohereRerank(client=<cohere.client.Client object at 0x7f1ab9c0a9d0>, top_n=5, model='rerank-multilingual-v2.0', cohere_api_key=None, user_agent='langchain'), base_retriever=VectorStoreRetriever(tags=['Qdrant', 'OpenAIEmbeddings'], vectorstore=<langchain_community.vectorstores.qdrant.Qdrant object at 0x7f1abbad16d0>, search_kwargs={'k': 20})), document_prompt=PromptTemplate(input_variables=['page_content'], template='{page_content}'), document_separator='\\n\\n'), coroutine=functools.partial(<function _aget_relevant_documents at 0x7f1abe666200>, retriever=ContextualCompressionRetriever(base_compressor=CohereRerank(client=<cohere.client.Client object at 0x7f1ab9c0a9d0>, top_n=5, model='rerank-multilingual-v2.0', cohere_api_key=None, user_agent='langchain'), base_retriever=VectorStoreRetriever(tags=['Qdrant', 'OpenAIEmbeddings'], vectorstore=<langchain_community.vectorstores.qdrant.Qdrant object at 0x7f1abbad16d0>, search_kwargs={'k': 20})), document_prompt=PromptTemplate(input_variables=['page_content'], template='{page_content}'), document_separator='\\n\\n'))]"
      ]
     },
     "execution_count": 19,
     "metadata": {},
     "output_type": "execute_result"
    }
   ],
   "source": [
    "tools"
   ]
  },
  {
   "cell_type": "markdown",
   "metadata": {},
   "source": [
    "#### 5.2 Search Engine If necessary"
   ]
  },
  {
   "cell_type": "code",
   "execution_count": 20,
   "metadata": {},
   "outputs": [],
   "source": [
    "search = TavilySearchResults(\n",
    "    description=\"Si necesitas informacion adicional, por ejemplo, una noticia, una sentencia, o cualquier otro contenido que no se encuentre en las fuentes principales, puedes utilizar esta herramienta para buscar en la web y obtener resultados relevantes. Tambien puedes utilizarla si necesitas aclarar a un concepto antes de utilizar las fuentes principales.\",\n",
    ")\n",
    "tools.append(search)"
   ]
  },
  {
   "cell_type": "code",
   "execution_count": 21,
   "metadata": {},
   "outputs": [
    {
     "data": {
      "text/plain": [
       "PromptTemplate(input_variables=['page_content'], template='{page_content}')"
      ]
     },
     "execution_count": 21,
     "metadata": {},
     "output_type": "execute_result"
    }
   ],
   "source": [
    "from langchain.prompts import PromptTemplate\n",
    "PromptTemplate.from_template(\"{page_content}\")\n"
   ]
  },
  {
   "cell_type": "markdown",
   "metadata": {},
   "source": [
    "#### 5.3 Oneflow Agent"
   ]
  },
  {
   "cell_type": "code",
   "execution_count": 22,
   "metadata": {},
   "outputs": [
    {
     "data": {
      "text/plain": [
       "[SystemMessagePromptTemplate(prompt=PromptTemplate(input_variables=[], template='You are a helpful assistant')),\n",
       " MessagesPlaceholder(variable_name='chat_history', optional=True),\n",
       " HumanMessagePromptTemplate(prompt=PromptTemplate(input_variables=['input'], template='{input}')),\n",
       " MessagesPlaceholder(variable_name='agent_scratchpad')]"
      ]
     },
     "execution_count": 22,
     "metadata": {},
     "output_type": "execute_result"
    }
   ],
   "source": [
    "prompt = hub.pull(\"hwchase17/openai-functions-agent\")\n",
    "prompt.messages"
   ]
  },
  {
   "cell_type": "code",
   "execution_count": 24,
   "metadata": {},
   "outputs": [],
   "source": [
    "system_message = \"Eres un asistente juridico que ayuda a los usuarios a encontrar informacion en fuentes legales. Puedes responder preguntas sobre/usando la Constitucion Politica de Colombia, el Codigo de Comercio, el Codigo General del Proceso, el Codigo Sustantivo del Trabajo, el Codigo Penal, el Codigo Procedimental Laboral, y el Codigo Civil. Ademas, puedes buscar informacion adicional en la web si es necesario. Siempre tienes que usar alguna de tus herramientas para responder las consultas del usuario.\"\n",
    "prompt.messages[0] = SystemMessagePromptTemplate.from_template(template=system_message)"
   ]
  },
  {
   "cell_type": "code",
   "execution_count": 25,
   "metadata": {},
   "outputs": [],
   "source": [
    "agent = create_openai_functions_agent(llm=llm, tools=tools, prompt=prompt)\n",
    "agent_executor = AgentExecutor(agent=agent, tools=tools, verbose=True)"
   ]
  },
  {
   "cell_type": "code",
   "execution_count": 26,
   "metadata": {},
   "outputs": [
    {
     "name": "stdout",
     "output_type": "stream",
     "text": [
      "\n",
      "\n",
      "\u001b[1m> Entering new AgentExecutor chain...\u001b[0m\n",
      "\u001b[32;1m\u001b[1;3m\n",
      "Invoking: `codigo_penal` with `{'query': 'territorialidad'}`\n",
      "\n",
      "\n",
      "\u001b[0m\u001b[36;1m\u001b[1;3mARTÍCULO 14. TERRITORIALIDAD. La ley penal colombiana se aplicará a toda persona que la infrinja en el territorio nacional, salvo las excepciones consagradas en el derecho internacional. \n",
      "Jurisprudencia Vigencia\n",
      "Corte Constitucional:- Este inciso corresponde en su totalidad al inciso 1o. del artículo 13 del Decreto-Ley 100 de 1980, la Corte Constitucional se pronunció sobre el aparte subrayado de dicho artículo declarándolo EXEQUIBLE mediante Sentencia C-1189-00 de 13 de sepiembre de 2000, Magistrado Ponente Dr. Carlos Gaviria Díaz.  \n",
      "La conducta punible se considera realizada: \n",
      "1. En el lugar donde se desarrolló total o parcialmente la acción. \n",
      "2. En el lugar donde debió realizarse la acción omitida. \n",
      "3. En el lugar donde se produjo o debió producirse el resultado.\n",
      "\n",
      "ARTÍCULO 15. TERRITORIALIDAD POR EXTENSIÓN. \n",
      "<Inciso modificado por el artículo 21 de la Ley 1121 de 2006. El nuevo texto es el siguiente:> La ley penal colombiana se aplicará a la persona que cometa la conducta punible a bordo de nave o aeronave del Estado o explotada por este, que se encuentre fuera del territorio nacional, salvo las excepciones consagradas en los tratados o convenios internacionales ratificados por Colombia.\n",
      "Notas de Vigencia\n",
      "- Inciso modificado por el artículo 21 de la Ley 1121 de 2006, publicada en el Diario Oficial No. 46.497 de 30 de diciembre de 2006. \n",
      "Legislación Anterior\n",
      "Texto original de la Ley 599 de 2000:<INCISO 1o.> La ley penal colombiana se aplicará a la persona que cometa la conducta punible a bordo de nave o aeronave del Estado que se encuentre fuera del territorio nacional, salvo las excepciones consagradas en los Tratados o Convenios Internacionales ratificados por Colombia.  \n",
      "Se aplicará igualmente al que cometa la conducta a bordo de cualquier otra nave o aeronave nacional, que se halle en altamar, cuando no se hubiere iniciado la acción penal en el exterior.\n",
      "\n",
      "ARTÍCULO 16. EXTRATERRITORIALIDAD. La ley penal colombiana se aplicará: \n",
      "1. <Inciso modificado por el artículo 22 de la Ley 1121 de 2006. El nuevo texto es el siguiente:> A la persona que cometa en el extranjero delito contra la existencia y seguridad del Estado, contra el régimen constitucional, contra el orden económico social excepto la conducta definida en el artículo 323 del presente Código, contra la administración pública, o falsifique moneda nacional o incurra en el delito de financiación de terrorismo y administración de recursos relacionados con actividades terroristas, aun cuando hubiere sido absuelta o condenada en el exterior a una pena menor que la prevista en la ley colombiana.\n",
      "Notas de Vigencia\n",
      "- Inciso 1o. modificado por el artículo 22 de la Ley 1121 de 2006, publicada en el Diario Oficial No. 46.497 de 30 de diciembre de 2006. \n",
      "Legislación Anterior\n",
      "Texto original de la Ley 599 de 2000:<INCISO 1> A la persona que cometa en el extranjero delito contra la existencia y la seguridad del Estado, contra el régimen constitucional, contra el orden económico social excepto la conducta definida en el Artículo 323 del presente Código, contra la administración pública, o falsifique moneda nacional, documento de crédito público, o estampilla oficial, aun cuando hubiere sido absuelta o condenada en el exterior a una pena menor que la prevista en la ley colombiana.  \n",
      "En todo caso se tendrá como parte cumplida de la pena el tiempo que hubiere estado privada de su libertad. \n",
      "Jurisprudencia Vigencia\n",
      "Corte Constitucional- Aparte subrayado declarado EXEQUIBLE por la Corte Constitucional mediante Sentencia C-551-01 de 30 de mayo, Magistrado Ponente Dr. Alvaro Tafur Galvis. \n",
      "2. A la persona que esté al servicio del Estado colombiano, goce de inmunidad reconocida por el derecho internacional y cometa delito en el extranjero. \n",
      "Jurisprudencia Vigencia\n",
      "Corte Constitucional:- Este numeral corresponde en su totalidad al numeral 2o. del artículo 15 del Decreto-Ley 100 de 1980, la Corte Constitucional se pronunció sobre dicho numeral declarándolo EXEQUIBLE mediante Sentencia C-264-95, de 22 de junio de 1995, Magistrado Ponente Dr. Fabio Morón Díaz. \n",
      "3. A la persona que esté al servicio del Estado colombiano, no goce de inmunidad reconocida por el derecho internacional y cometa en el extranjero delito distinto de los mencionados en el numeral 1o., cuando no hubiere sido juzgada en el exterior. \n",
      "4. Al nacional que fuera de los casos previstos en los numerales anteriores, se encuentre en Colombia después de haber cometido un delito en territorio extranjero, cuando la ley penal colombiana lo reprima con pena privativa de la libertad cuyo mínimo no sea inferior a dos (2) años y no hubiere sido juzgado en el exterior. \n",
      "Si se trata de pena inferior, no se procederá sino por querella de parte o petición del Procurador General de la Nación. \n",
      "Jurisprudencia Vigencia\n",
      "Corte Constitucional:- Este numeral corresponde en su totalidad al numeral 4o. del artículo 15 del Decreto-Ley 100 de 1980, la Corte Constitucional se pronunció sobre el aparte subrayado en dicho artículo declarándolo EXEQUIBLE mediante Sentencia C-1189-00 de 13 de sepiembre de 2000, Magistrado Ponente Dr. Carlos Gaviria Díaz.  \n",
      "5. Al extranjero que fuera de los casos previstos en los numerales 1, 2 y 3, se encuentre en Colombia después de haber cometido en el exterior un delito en perjuicio del Estado o de un nacional colombiano, que la ley colombiana reprima con pena privativa de la libertad cuyo mínimo no sea inferior a dos años (2) y no hubiere sido juzgado en el exterior. \n",
      "En este caso sólo se procederá por querella de parte o petición del Procurador General de la Nación. \n",
      "6. Al extranjero que haya cometido en el exterior un delito en perjuicio de extranjero, siempre que se reúnan estas condiciones: \n",
      "a) Que se halle en territorio colombiano; \n",
      "b) Que el delito tenga señalada en Colombia pena privativa de la libertad cuyo mínimo no sea inferior a tres (3) años; \n",
      "c) Que no se trate de delito político, y \n",
      "d) Que solicitada la extradición no hubiere sido concedida por el gobierno colombiano. Cuando la extradición no fuere aceptada habrá lugar a proceso penal. \n",
      "En el caso a que se refiere el presente numeral no se procederá sino mediante querella o petición del Procurador General de la Nación y siempre que no hubiere sido juzgado en el exterior.\n",
      "\n",
      "CAPÍTULO VII. \n",
      "DE LA USURPACIÓN \n",
      "\n",
      "ARTÍCULO 261. USURPACIÓN DE INMUEBLES. <Artículo modificado por el artículo 9 de la Ley 1453 de 2011. El nuevo texto es el siguiente:> El que para apropiarse en todo o en parte de bien inmueble, o para derivar provecho de él destruya, altere, o suprima los mojones o señales que fijan sus linderos, o los cambie de sitio, incurrirá en prisión de cuarenta y ocho (48) a cincuenta y cuatro (54) meses y multa de trece punto treinta y tres (13.33) a setenta y cinco (75) salarios mínimos legales mensuales vigentes. \n",
      "Si con el mismo propósito se desarrollan acciones jurídicas induciendo a error o con la complicidad, favorecimiento o coautoría de la autoridad notarial o de registro de instrumentos públicos, la pena será de prisión entre cuatro y diez años. \n",
      "La pena se duplicará, si la usurpación se desarrolla mediante el uso de la violencia o valiéndose de cualquiera de las conductas establecidas en el Título XII de este libro. \n",
      "Notas de Vigencia\n",
      "- Artículo modificado por el artículo 9 de la Ley 1453 de 2011, publicada en el Diario Oficial No. 48.110 de 24 de junio de 2011.- Ver la ADVERTENCIA y el Resumen de Notas de Vigencia al comienzo de este Código.Artículo modificado por el artículo 14 de la Ley 890 de 2004, publicada en el Diario Oficial No. 45.602, de 7 de julio de 2004, el cual establece en su versión original:'ARTÍCULO 14. Las penas previstas en los tipos penales contenidos en la Parte Especial del Código Penal se aumentarán en la tercera parte en el mínimo y en la mitad en el máximo. En todo caso, la aplicación de esta regla general de incremento deberá respetar el tope máximo de la pena privativa de la libertad para los tipos penales de acuerdo con lo establecido en el artículo 2o. de la presente ley. ...'El artículo 15, dispone: '... La presente ley rige a partir del 1o. de enero de 2005 ...'  \n",
      "Legislación Anterior\n",
      "Texto original de la Ley 599 de 2000, con las penas aumentadas por la Ley 890 de 2004:ARTÍCULO 261. USURPACIÓN DE TIERRAS. <Penas aumentadas por el artículo 14 de la Ley 890 de 2004, a partir del 1o. de enero de 2005. El texto con las penas aumentadas es el siguiente:> El que para apropiarse en todo o en parte de bien inmueble, o para derivar provecho de él destruya, altere, o suprima los mojones o señales que fijan sus linderos, o los cambie de sitio, incurrirá en prisión de dieciséis (16) a cincuenta y cuatro (54) meses y multa de trece punto treinta y tres (13.33) a setenta y cinco (75) salarios mínimos legales mensuales vigentes.Texto original de la Ley 599 de 2000:ARTÍCULO 261. USURPACIÓN DE TIERRAS. El que para apropiarse en todo o en parte de bien inmueble, o para derivar provecho de él destruya, altere, o suprima los mojones o señales que fijan sus linderos, o los cambie de sitio, incurrirá en prisión de uno (1) a tres (3) años y multa de diez (10) a cincuenta (50) salarios mínimos legales mensuales vigentes.\n",
      "\n",
      "ARTÍCULO 455. MENOSCABO DE LA INTEGRIDAD NACIONAL. <Penas aumentadas por el artículo 14 de la Ley 890 de 2004, a partir del 1o. de enero de 2005. El texto con las penas aumentadas es el siguiente:> El que realice actos que tiendan a menoscabar la integridad territorial de Colombia, a someterla en todo o en parte al dominio extranjero, a afectar su naturaleza de Estado soberano, o a fraccionar la unidad nacional, incurrirá en prisión de trescientos veinte (320) a quinientos cuarenta (540) meses. \n",
      "Notas de Vigencia\n",
      "- Ver la ADVERTENCIA y el Resumen de Notas de Vigencia al comienzo de este Código.Artículo modificado por el artículo 14 de la Ley 890 de 2004, publicada en el Diario Oficial No. 45.602, de 7 de julio de 2004, el cual establece en su versión original:'ARTÍCULO 14. Las penas previstas en los tipos penales contenidos en la Parte Especial del Código Penal se aumentarán en la tercera parte en el mínimo y en la mitad en el máximo. En todo caso, la aplicación de esta regla general de incremento deberá respetar el tope máximo de la pena privativa de la libertad para los tipos penales de acuerdo con lo establecido en el artículo 2o. de la presente ley. ...'El artículo 15, dispone: '... La presente ley rige a partir del 1o. de enero de 2005 ...'  \n",
      "Legislación Anterior\n",
      "Texto original de la Ley 599 de 2000:ARTÍCULO 455. MENOSCABO DE LA INTEGRIDAD NACIONAL. El que realice actos que tiendan a menoscabar la integridad territorial de Colombia, a someterla en todo o en parte al dominio extranjero, a afectar su naturaleza de Estado soberano, o a fraccionar la unidad nacional, incurrirá en prisión de veinte (20) a treinta (30) años.\u001b[0m\u001b[32;1m\u001b[1;3mEl principio de territorialidad en el ámbito penal, según el Código Penal colombiano, establece que la ley penal colombiana se aplica a toda persona que infrinja la ley dentro del territorio nacional, con algunas excepciones consagradas en el derecho internacional. Esto significa que cualquier conducta punible cometida en Colombia está sujeta a la legislación penal colombiana, independientemente de la nacionalidad del infractor.\n",
      "\n",
      "La ley también considera como territorio nacional para efectos penales, y por tanto aplica la ley penal colombiana, a las siguientes situaciones:\n",
      "1. La conducta punible se considera realizada en el lugar donde se desarrolló total o parcialmente la acción, donde debió realizarse la acción omitida, o donde se produjo o debió producirse el resultado.\n",
      "2. A bordo de nave o aeronave del Estado colombiano o explotada por este, que se encuentre fuera del territorio nacional, salvo excepciones consagradas en tratados o convenios internacionales ratificados por Colombia.\n",
      "\n",
      "Además, existe la extraterritorialidad de la ley penal colombiana en ciertos casos específicos, como delitos cometidos en el extranjero contra la existencia y seguridad del Estado colombiano, contra el régimen constitucional, contra el orden económico social, entre otros, incluso si la persona ya fue absuelta o condenada en el exterior. También se aplica a personas al servicio del Estado colombiano que cometan delitos en el extranjero, a nacionales que cometan delitos en el extranjero y se encuentren en Colombia, y a extranjeros que cometan delitos en el exterior en perjuicio del Estado o de un nacional colombiano, bajo ciertas condiciones.\u001b[0m\n",
      "\n",
      "\u001b[1m> Finished chain.\u001b[0m\n"
     ]
    },
    {
     "data": {
      "text/plain": [
       "{'input': 'Que significa la territorialidad en el ambito penal?',\n",
       " 'output': 'El principio de territorialidad en el ámbito penal, según el Código Penal colombiano, establece que la ley penal colombiana se aplica a toda persona que infrinja la ley dentro del territorio nacional, con algunas excepciones consagradas en el derecho internacional. Esto significa que cualquier conducta punible cometida en Colombia está sujeta a la legislación penal colombiana, independientemente de la nacionalidad del infractor.\\n\\nLa ley también considera como territorio nacional para efectos penales, y por tanto aplica la ley penal colombiana, a las siguientes situaciones:\\n1. La conducta punible se considera realizada en el lugar donde se desarrolló total o parcialmente la acción, donde debió realizarse la acción omitida, o donde se produjo o debió producirse el resultado.\\n2. A bordo de nave o aeronave del Estado colombiano o explotada por este, que se encuentre fuera del territorio nacional, salvo excepciones consagradas en tratados o convenios internacionales ratificados por Colombia.\\n\\nAdemás, existe la extraterritorialidad de la ley penal colombiana en ciertos casos específicos, como delitos cometidos en el extranjero contra la existencia y seguridad del Estado colombiano, contra el régimen constitucional, contra el orden económico social, entre otros, incluso si la persona ya fue absuelta o condenada en el exterior. También se aplica a personas al servicio del Estado colombiano que cometan delitos en el extranjero, a nacionales que cometan delitos en el extranjero y se encuentren en Colombia, y a extranjeros que cometan delitos en el exterior en perjuicio del Estado o de un nacional colombiano, bajo ciertas condiciones.'}"
      ]
     },
     "execution_count": 26,
     "metadata": {},
     "output_type": "execute_result"
    }
   ],
   "source": [
    "await agent_executor.ainvoke({\"input\": \"Que significa la territorialidad en el ambito penal?\"})"
   ]
  },
  {
   "cell_type": "code",
   "execution_count": 27,
   "metadata": {},
   "outputs": [
    {
     "name": "stdout",
     "output_type": "stream",
     "text": [
      "\n",
      "\n",
      "\u001b[1m> Entering new AgentExecutor chain...\u001b[0m\n",
      "\u001b[32;1m\u001b[1;3m\n",
      "Invoking: `tavily_search_results_json` with `{'query': 'sentencia T-237 de 2023 Colombia'}`\n",
      "\n",
      "\n",
      "\u001b[0m\u001b[31;1m\u001b[1;3m[{'url': 'https://www.corteconstitucional.gov.co/Relatoria/2023/T-237-23.htm', 'content': 'REPÚBLICA DE COLOMBIA. CORTE CONSTITUCIONAL. Sala Primera de Revisión . SENTENCIA T-237 de 2023 . Referencia: Expediente T-8.424.592 . Acción de tutela instaurada por Constanza Eugenia Mantilla Reyes y otras personas contra la Nación - Ministerio de Salud y Protección Social.'}, {'url': 'https://jurinfo.jep.gov.co/normograma/compilacion/docs/t-237_2023.htm', 'content': 'REPÚBLICA DE COLOMBIA. CORTE CONSTITUCIONAL. Sala Primera de Revisión. SENTENCIA T-237 de 2023. Referencia: Expediente T-8.424.592. Acción de tutela instaurada por Constanza Eugenia Mantilla Reyes y otras personas contra la Nación - Ministerio de Salud y Protección Social.'}, {'url': 'https://oneill.law.georgetown.edu/publications/sentencia-t-237-de-2023-t-237-decision-caso-ucis/', 'content': 'Sentencia T-237 de 2023 (T-237 Decision) - Caso UCIs. Corte Constitucional (Colombia) | July 4, 2023. Read the Publication. Related Initiatives. Health and Human Rights. Related Projects. Litigation, Policymaking, and Standard-Setting. Latest publications See All. Op-Ed. February 22, 2024.'}, {'url': 'https://www.corteconstitucional.gov.co/relatoria/2023/T-372-23.htm', 'content': 'REPÚBLICA DE COLOMBIA . CORTE CONSTITUCIONAL . SENTENCIA T-372 de 2023 . Referencia: expediente T-8.652.060. Acción de tutela instaurada por Ana Bejarano Ricaurte y otros contra el Ministerio de Defensa Nacional y otros. Magistrada sustanciadora: Natalia Ángel Cabo. Bogotá D.C., veinte (20) de septiembre de dos mil veintitrés (2023).'}, {'url': 'https://www.corteconstitucional.gov.co/Relatoria/2023/T-376-23.htm', 'content': 'REPÚBLICA DE COLOMBIA. CORTE CONSTITUCIONAL. Sala Novena de Revisión . SENTENCIA T-376 DE 2023 . Referencia: Expediente T-9.219.185 Acción de tutela instaurada por el apoderado judicial de Fernando quien actúa en representación de su hija Laura contra la Secretaría de Educación del Cesar y la Fiduprevisora S.A.. Magistrado Ponente:'}]\u001b[0m\u001b[32;1m\u001b[1;3mLa Sentencia T-237 de 2023 de la Corte Constitucional de Colombia se refiere a una acción de tutela instaurada por Constanza Eugenia Mantilla Reyes y otras personas contra la Nación - Ministerio de Salud y Protección Social. Para obtener detalles específicos sobre los fundamentos y decisiones de esta sentencia, te recomiendo consultar directamente el texto completo de la sentencia a través de los siguientes enlaces:\n",
      "\n",
      "- [Texto completo de la Sentencia T-237 de 2023 en la página oficial de la Corte Constitucional](https://www.corteconstitucional.gov.co/Relatoria/2023/T-237-23.htm)\n",
      "- [Otra fuente con información sobre la Sentencia T-237 de 2023](https://jurinfo.jep.gov.co/normograma/compilacion/docs/t-237_2023.htm)\n",
      "\n",
      "Estos enlaces te llevarán directamente a las fuentes oficiales donde podrás leer en detalle los argumentos, análisis y conclusiones de la Corte respecto a este caso.\u001b[0m\n",
      "\n",
      "\u001b[1m> Finished chain.\u001b[0m\n"
     ]
    },
    {
     "data": {
      "text/plain": [
       "{'input': 'Que dice la sentencia T-237 de 2023?',\n",
       " 'output': 'La Sentencia T-237 de 2023 de la Corte Constitucional de Colombia se refiere a una acción de tutela instaurada por Constanza Eugenia Mantilla Reyes y otras personas contra la Nación - Ministerio de Salud y Protección Social. Para obtener detalles específicos sobre los fundamentos y decisiones de esta sentencia, te recomiendo consultar directamente el texto completo de la sentencia a través de los siguientes enlaces:\\n\\n- [Texto completo de la Sentencia T-237 de 2023 en la página oficial de la Corte Constitucional](https://www.corteconstitucional.gov.co/Relatoria/2023/T-237-23.htm)\\n- [Otra fuente con información sobre la Sentencia T-237 de 2023](https://jurinfo.jep.gov.co/normograma/compilacion/docs/t-237_2023.htm)\\n\\nEstos enlaces te llevarán directamente a las fuentes oficiales donde podrás leer en detalle los argumentos, análisis y conclusiones de la Corte respecto a este caso.'}"
      ]
     },
     "execution_count": 27,
     "metadata": {},
     "output_type": "execute_result"
    }
   ],
   "source": [
    "await agent_executor.ainvoke({\"input\": \"Que dice la sentencia T-237 de 2023?\"})"
   ]
  }
 ],
 "metadata": {
  "kernelspec": {
   "display_name": ".venv",
   "language": "python",
   "name": "python3"
  },
  "language_info": {
   "codemirror_mode": {
    "name": "ipython",
    "version": 3
   },
   "file_extension": ".py",
   "mimetype": "text/x-python",
   "name": "python",
   "nbconvert_exporter": "python",
   "pygments_lexer": "ipython3",
   "version": "3.11.6"
  }
 },
 "nbformat": 4,
 "nbformat_minor": 2
}
